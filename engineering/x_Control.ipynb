{
 "cells": [
  {
   "cell_type": "code",
   "execution_count": 1,
   "metadata": {},
   "outputs": [],
   "source": [
    "import time\n",
    "\n",
    "import asyncio\n",
    "from math import radians, cos, sqrt, atan2, pi, degrees\n",
    "\n",
    "# nest_asyncio allows async operations within the Juypeter Notebook\n",
    "import nest_asyncio\n",
    "nest_asyncio.apply()"
   ]
  },
  {
   "cell_type": "code",
   "execution_count": 2,
   "metadata": {},
   "outputs": [],
   "source": [
    "49.69440585066409, 10.827450473363868\n",
    "\n",
    "position =  (\"49.69440585066409\",\"10.827450473363868\" ) #Home orkshop\n",
    "#destination = (\"49.69848278709498\",\"10.85355993252834\" )  #HBurkhardtome\n",
    "destination = (\"49.684309507663706\", \"10.837448319639334\") #Krausenbechhofen\n",
    "#destination = (\"49.694428996515875\", \"10.827444023181\") # Fence Lin\n",
    "#destination=(\"49.694407742568984\", \"10.827534547767414\") # Kellerstrasse at Workshop\n",
    "\n",
    "\n"
   ]
  },
  {
   "cell_type": "code",
   "execution_count": 3,
   "metadata": {},
   "outputs": [],
   "source": [
    "def normalize(angle):\n",
    "    '''Normalize degrees to -PI to PI radians range'''\n",
    "    return (angle + pi) % (2 * pi) - pi"
   ]
  },
  {
   "cell_type": "code",
   "execution_count": 4,
   "metadata": {},
   "outputs": [],
   "source": [
    "def translateValue(valueIn,minIn,maxIn,minOut,maxOut):\n",
    "    ''' Translate value from one range to another '''\n",
    "    valueIn = min(maxIn, max(minIn, valueIn)) # clamp the input value\n",
    "    return (valueIn-minIn)/(maxIn-minIn)*(maxOut-minOut)+minOut # translate the value\n",
    "    "
   ]
  },
  {
   "cell_type": "code",
   "execution_count": 5,
   "metadata": {},
   "outputs": [],
   "source": [
    "def convert_dd_int(degreedecimal:str) -> int:\n",
    "    '''\n",
    "    converts degree decimal to big int\n",
    "    \"49.6939697\" => 496939697\n",
    "    '''\n",
    "    degree, decimal = degreedecimal.split('.')\n",
    "    dd = str(degree)+str(decimal) \n",
    "    dd = '{:<09s}'.format(dd) # Micropython 10 Digits Precision (2147483647), we choose 9 digit precision\n",
    "    dd = dd[:9]\n",
    "    return int(dd)"
   ]
  },
  {
   "cell_type": "code",
   "execution_count": 6,
   "metadata": {},
   "outputs": [],
   "source": [
    "def positionDifference(position_str:str,destination_str:str) -> tuple:\n",
    "    ''' \n",
    "        Provides the longitudal and latitudal differnce in meters\n",
    "        This calculation is suitable for distances 10km or less and\n",
    "        it is customized to mitigate the poor floating point precision of Micropython.\n",
    "        For larger distances the Haversine formula would be needed\n",
    "    '''\n",
    "\n",
    "    lat_p = convert_dd_int(position_str[0])\n",
    "    lon_p = convert_dd_int(position_str[1])\n",
    "\n",
    "    lat_d = convert_dd_int(destination_str[0])\n",
    "    lon_d = convert_dd_int(destination_str[1])\n",
    "\n",
    "    dy = lat_d-lat_p # delta latitude\n",
    "    dx = lon_d-lon_p # delta longitude\n",
    "\n",
    "    # correct dx due to the curvature of the earth\n",
    "    latA = float(destination_str[0])\n",
    "    latB = float(position_str[0])\n",
    "    latAvg = (latA+latB)/2\n",
    "    correct_dx = dx*cos(radians(latAvg))   \n",
    "\n",
    "    # The distances dx and dy are arcdegrees, which is then converted to meters\n",
    "    dx_meters = correct_dx * 0.011112       # 111120 / 10000000 # 111120 meters in an arcdegree\n",
    "    dy_meters = dy * 0.011112           \t# 111120 / 10000000 # 111120 meters in an arcdegree\n",
    "\n",
    "    return dx_meters, dy_meters"
   ]
  },
  {
   "cell_type": "code",
   "execution_count": 7,
   "metadata": {},
   "outputs": [
    {
     "data": {
      "text/plain": [
       "(718.719241236055, -1121.900856)"
      ]
     },
     "execution_count": 7,
     "metadata": {},
     "output_type": "execute_result"
    }
   ],
   "source": [
    "positionDifference(position,destination)"
   ]
  },
  {
   "cell_type": "code",
   "execution_count": 8,
   "metadata": {},
   "outputs": [],
   "source": [
    "def distancebearing(position_str:str,destination_str:str) -> tuple:\n",
    "    '''\n",
    "    Provides distance (meters:float) and bearing (degrees:float) from a position to a destination \n",
    "    '''\n",
    "\n",
    "    dLon, dLat = positionDifference(position_str,destination_str)\n",
    "    \n",
    "    distance = round(sqrt(dLon**2 + dLat**2),1)   # distance in meters, limted to 1 decimal\n",
    "    bearing = round(atan2(dLon,dLat),3) # bearing in radians, limited to 3 decimals\n",
    "\n",
    "    return distance, degrees(bearing)"
   ]
  },
  {
   "cell_type": "code",
   "execution_count": 9,
   "metadata": {},
   "outputs": [
    {
     "data": {
      "text/plain": [
       "(1332.4, 147.36474490764775)"
      ]
     },
     "execution_count": 9,
     "metadata": {},
     "output_type": "execute_result"
    }
   ],
   "source": [
    "distancebearing(position,destination)"
   ]
  },
  {
   "cell_type": "code",
   "execution_count": null,
   "metadata": {},
   "outputs": [],
   "source": [
    "async def control_position():\n",
    "    \"\"\"Main control loop for position holding\"\"\"\n",
    "    print(\"Position control started...\")\n",
    "    \n",
    "    last_time = time.time()\n",
    "\n",
    "    kp = 0.1\n",
    "    ki = 0.1\n",
    "    kd = 0\n",
    "\n",
    "    integral_error_x =0\n",
    "    integral_error_y = 0\n",
    "\n",
    "    last_error_x = 0\n",
    "    last_error_y = 0\n",
    "    \n",
    "    n= 20\n",
    "    while n >= 0:\n",
    "    \n",
    "        n=n-1\n",
    "\n",
    "\n",
    "        # Calculate position error in meters\n",
    "        error_x, error_y = positionDifference(position,destination)\n",
    "        \n",
    "        current_time = time.time()\n",
    "        dt = current_time - last_time\n",
    "        last_time = current_time\n",
    "   \n",
    "        # Calculate PID control values\n",
    "        # Proportional term\n",
    "        p_term_x = kp * error_x\n",
    "        p_term_y = kp * error_y\n",
    "        \n",
    "        # Integral term\n",
    "        integral_error_x += error_x * dt\n",
    "        integral_error_y += error_y * dt\n",
    "        i_term_x = ki * integral_error_x\n",
    "        i_term_y = ki * integral_error_y\n",
    "        \n",
    "        # Derivative term\n",
    "        derivative_x = (error_x - last_error_x) / dt if dt > 0 else 0\n",
    "        derivative_y = (error_y - last_error_y) / dt if dt > 0 else 0\n",
    "        d_term_x = kd * derivative_x\n",
    "        d_term_y = kd * derivative_y\n",
    "        \n",
    "        # Calculate thrust commands\n",
    "        thrust_x = p_term_x + i_term_x + d_term_x\n",
    "        thrust_y = p_term_y + i_term_y + d_term_y\n",
    "        \n",
    "        # Store errors for next iteration\n",
    "        last_error_x = error_x\n",
    "        last_error_y = error_y\n",
    "        \n",
    "    \n",
    "        distance_meters = round(sqrt(thrust_x**2 + thrust_y**2),1)   # distance in meters, limted to 1 decimal\n",
    "        desiredcourse = round(atan2(thrust_x,thrust_y),3) # bearing in radians, limited to 3 decimals\n",
    "\n",
    "        # Reduce the surge as the RoboBouy approached the waypoint\n",
    "        # It slows down inverse square to the holdRadius\n",
    "        vmax = 1\n",
    "        holdgain = 1\n",
    "        holdRadius = 10\n",
    "\n",
    "        surge = min(vmax, holdgain * (distance_meters**2 / holdRadius**2) )\n",
    "\n",
    "\n",
    "        print(f\"Position error: {error_x:.2f}m, {error_y:.2f}m, Applying thrust: surge={surge:.2f}, desiredcourse={degrees(desiredcourse):.2f}\")\n",
    "        \n",
    "        await asyncio.sleep(0.01)  # Control frequency"
   ]
  },
  {
   "cell_type": "code",
   "execution_count": 12,
   "metadata": {},
   "outputs": [
    {
     "name": "stdout",
     "output_type": "stream",
     "text": [
      "Main was called\n"
     ]
    },
    {
     "name": "stdout",
     "output_type": "stream",
     "text": [
      "Position control started...\n",
      "Position error: 718.72m, -1121.90m, Applying thrust: surge=1.00, desiredcourse=147.36\n",
      "Position error: 718.72m, -1121.90m, Applying thrust: surge=1.00, desiredcourse=147.36\n",
      "Position error: 718.72m, -1121.90m, Applying thrust: surge=1.00, desiredcourse=147.36\n",
      "Position error: 718.72m, -1121.90m, Applying thrust: surge=1.00, desiredcourse=147.36\n",
      "Position error: 718.72m, -1121.90m, Applying thrust: surge=1.00, desiredcourse=147.36\n",
      "Position error: 718.72m, -1121.90m, Applying thrust: surge=1.00, desiredcourse=147.36\n",
      "Position error: 718.72m, -1121.90m, Applying thrust: surge=1.00, desiredcourse=147.36\n",
      "Position error: 718.72m, -1121.90m, Applying thrust: surge=1.00, desiredcourse=147.36\n",
      "Position error: 718.72m, -1121.90m, Applying thrust: surge=1.00, desiredcourse=147.36\n",
      "Position error: 718.72m, -1121.90m, Applying thrust: surge=1.00, desiredcourse=147.36\n",
      "Position error: 718.72m, -1121.90m, Applying thrust: surge=1.00, desiredcourse=147.36\n",
      "Position error: 718.72m, -1121.90m, Applying thrust: surge=1.00, desiredcourse=147.36\n",
      "Position error: 718.72m, -1121.90m, Applying thrust: surge=1.00, desiredcourse=147.36\n",
      "Position error: 718.72m, -1121.90m, Applying thrust: surge=1.00, desiredcourse=147.36\n",
      "Position error: 718.72m, -1121.90m, Applying thrust: surge=1.00, desiredcourse=147.36\n",
      "Position error: 718.72m, -1121.90m, Applying thrust: surge=1.00, desiredcourse=147.36\n",
      "Position error: 718.72m, -1121.90m, Applying thrust: surge=1.00, desiredcourse=147.36\n",
      "Position error: 718.72m, -1121.90m, Applying thrust: surge=1.00, desiredcourse=147.36\n",
      "Position error: 718.72m, -1121.90m, Applying thrust: surge=1.00, desiredcourse=147.36\n",
      "Position error: 718.72m, -1121.90m, Applying thrust: surge=1.00, desiredcourse=147.36\n",
      "Position error: 718.72m, -1121.90m, Applying thrust: surge=1.00, desiredcourse=147.36\n"
     ]
    }
   ],
   "source": [
    "async def main():\n",
    "   print(\"Main was called\")\n",
    "   asyncio.create_task(control_position())\n",
    "\n",
    "asyncio.run(main())"
   ]
  }
 ],
 "metadata": {
  "kernelspec": {
   "display_name": "Python 3",
   "language": "python",
   "name": "python3"
  },
  "language_info": {
   "codemirror_mode": {
    "name": "ipython",
    "version": 3
   },
   "file_extension": ".py",
   "mimetype": "text/x-python",
   "name": "python",
   "nbconvert_exporter": "python",
   "pygments_lexer": "ipython3",
   "version": "3.10.5"
  }
 },
 "nbformat": 4,
 "nbformat_minor": 2
}
