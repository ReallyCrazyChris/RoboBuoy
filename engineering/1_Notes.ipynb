{
 "cells": [
  {
   "cell_type": "markdown",
   "metadata": {},
   "source": [
    "## TODO's\n",
    "\n",
    "### RoboBuoy\n",
    "\n",
    "- Long Range LORA Implementation & Installation\n",
    "- State based Magnetomerter Calibration Sequence\n",
    "- Sperate States for Auto path and Hold Position\n",
    "- Loss of BLE connection causes ESP to crash why ?\n",
    "- improve code terminology\n",
    "  - course : The direction in which a vessel is being steered, usually given in degrees.\n",
    "  - heading : The direction in which the nose of a vessel is pointing (which is not necessarily the same as the direction in which the vessel is actually moving).\n",
    "- improve the process of compass calibration\n",
    "\n",
    "- Terminology Improvemnts\n",
    "- use Heading instead of course\n",
    "- use Bearing instead of dedired course\n",
    "- use Thrust instead of surge\n",
    "- Create Test Cases\n",
    "\n",
    "### Ready for test\n",
    "\n",
    "- &#9744; A way to fuse the gps cource, even when the robot is very slow, or not really moving\n",
    "\n",
    "### RoboBuoyApp\n",
    "\n",
    "- Zoom to the Extend of the course, robots, and comitte boats\n",
    "- Create a course of bouys\n",
    "- Have the closest robots snap to a buoy marker\n",
    "- Have the comitte boat member execute \"GO to markers\" button \"hold button\"\n",
    "\n",
    "#### Learn\n",
    "\n",
    "- &#9744; Wireless Charging\n",
    "- &#9744; 12v Gel BMS with I2C [ capacity, voltage, current in&out]\n",
    "- &#9744; How to calculate the optimal stabiliy of the boy, considering its own bouyancy and influence of wind load (no lolling)\n",
    "- &#9744; Best LED Lighting\n",
    "- &#9744; How to do capacitive \"in the water / out of the water\" detection.\n",
    "- &#9745; Most Detectable Colors ( its Chartreuse Green !)\n",
    "- &#9744; What is the Best Battery for the RoboBuoy\n",
    "- &#9744; How to detect water ingress in the bilge\n",
    "- &#9744; Barometric Pressure, Air and Water Temperature, Dewpoint\n",
    "- &#9744; Wind Speed\n",
    "- &#9744; Wave Height, Steepes and Frequency\n",
    "- &#9744; How to wireless Charge the Robot\n"
   ]
  },
  {
   "cell_type": "markdown",
   "metadata": {},
   "source": [
    "### Most Detectable Colors over Water\n",
    "\n",
    "#### Answer: Florecent chartreuse green !\n",
    "\n",
    "- https://www.youtube.com/watch?v=xlCAW83P_X4\n",
    "- https://www.youtube.com/watch?v=BG3MBcPaE8c\n",
    "- Green\n",
    "- Orange\n",
    "- Yellow\n",
    "- Red\n",
    "\n",
    "Chartreuse Color Codes\n",
    "\n",
    "| CODE | VALUE           | HTML/CSS           |\n",
    "| ---- | --------------- | ------------------ |\n",
    "| Hex  | DFFF00          | #DFFF00            |\n",
    "| RGB  | 223, 255, 0     | rgb(223, 255, 0)   |\n",
    "| HSL  | 68°, 100%, 50%  | hsl(68, 100%, 50%) |\n",
    "| HSV  | 68°, 100%, 100% |                    |\n",
    "| CMYK | 13, 0, 100, 0   |                    |\n"
   ]
  },
  {
   "cell_type": "markdown",
   "metadata": {},
   "source": [
    "### GPS Fuse\n",
    "\n",
    "A way to fuse the gps cource, even when the robot is very slow, or not really moving\n",
    "\n",
    "Ideas:\n",
    "\n",
    "- Just do it as soon as the gps is available, this may cause the robot to hunt around in hold state\n",
    "\n",
    "- If the distance to the next waypoint is greater than say 20 meters, and the robot is unserway, fuse the GPS cource with the current cource, by updating the magnetic declination.\n"
   ]
  }
 ],
 "metadata": {
  "kernelspec": {
   "display_name": "Python 3",
   "language": "python",
   "name": "python3"
  },
  "language_info": {
   "codemirror_mode": {
    "name": "ipython",
    "version": 3
   },
   "file_extension": ".py",
   "mimetype": "text/x-python",
   "name": "python",
   "nbconvert_exporter": "python",
   "pygments_lexer": "ipython3",
   "version": "3.10.5"
  }
 },
 "nbformat": 4,
 "nbformat_minor": 2
}
