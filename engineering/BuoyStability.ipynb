{
 "cells": [
  {
   "cell_type": "code",
   "execution_count": 248,
   "metadata": {},
   "outputs": [],
   "source": [
    "from math import pi"
   ]
  },
  {
   "cell_type": "markdown",
   "metadata": {},
   "source": [
    "## Stability of the Bouy in Water\n",
    "\n",
    "- What is the optimal stabiliy and bouyancy ?\n",
    "    - Considering its own weight and weight distribution\n",
    "    - Considering wind loading on the buoy\n",
    "\n",
    "- How much of the bouy is visible above the water line\n",
    "- How do we get maximum stability and maximum visibility above the water line\n",
    "\n"
   ]
  },
  {
   "cell_type": "code",
   "execution_count": 249,
   "metadata": {},
   "outputs": [],
   "source": [
    "#Definitions (Meters, Kilograms)\n",
    "# Hull \n",
    "diameter_buoy = 0.071 #m \n",
    "height_buoy   = 2.05 #m\n",
    "weight_buoy = 0.5 #Kg TODO need to actually measure this \n",
    "\n",
    "# Balast\n",
    "diameter_electonics = 0.065 #m \n",
    "heigh_electonics   = 0.2 #m\n",
    "weight_electonics = 2 #Kg TODO need to actually measure this \n",
    "\n",
    "specific_gravity_water = 0.6\n",
    "specific_weight_water = 1000 #kg/m**3"
   ]
  },
  {
   "cell_type": "markdown",
   "metadata": {},
   "source": [
    "## What is the metacentric height of a cylinder when it is floating in the water with its axis vertical\n",
    "\n",
    "\n",
    "\n",
    "\n"
   ]
  },
  {
   "cell_type": "markdown",
   "metadata": {},
   "source": [
    "### Calculate the Center of Gravity \n",
    "\n",
    "Now we calculate the center of gravity of the buoy consisting of \n",
    "- the cylinder of the buoy\n",
    "- the electronics and batter at the bottom of the buoy "
   ]
  },
  {
   "cell_type": "code",
   "execution_count": 253,
   "metadata": {},
   "outputs": [],
   "source": [
    "def center_of_gravity_two_mases(l1,m1,l2,m2):\n",
    "    ''' \n",
    "        calculates the center of gravity of the buoy\n",
    "        l1 lenght of the buoy in meters\n",
    "        m1 weight of the buoy in newtons\n",
    "        l2 length of the internal mass in meters\n",
    "        m2 weight of the internal mass in newtons\n",
    "    '''\n",
    "\n",
    "    cog1 = l1/2 # Asuming the mass is equally distributed throughout the object\n",
    "    cog2 = l2/2 # ditto\n",
    "    cog  = (m1*cog1 + m2*cog2) / ( m1+m2 )\n",
    "    "
   ]
  },
  {
   "cell_type": "code",
   "execution_count": 254,
   "metadata": {},
   "outputs": [
    {
     "name": "stdout",
     "output_type": "stream",
     "text": [
      "center_of_gravity - G 0.285 m\n"
     ]
    }
   ],
   "source": [
    "center_of_gravity = center_of_gravity_two_mases(height_buoy,weight_buoy,heigh_electonics,weight_electonics)\n",
    "print('center_of_gravity - G',center_of_gravity,'m')"
   ]
  },
  {
   "cell_type": "markdown",
   "metadata": {},
   "source": [
    "### Depth of Immersion\n",
    "Calcualte how deep the buoy is immersed under the water based on the weight and the volume of water displaced"
   ]
  },
  {
   "cell_type": "code",
   "execution_count": 255,
   "metadata": {},
   "outputs": [],
   "source": [
    "def height_of_displacement(diameter,totalmass):\n",
    "    height = (4 * totalmass ) / (pi * diameter**2 * specific_weight_water ) \n",
    "    return height"
   ]
  },
  {
   "cell_type": "code",
   "execution_count": 256,
   "metadata": {},
   "outputs": [
    {
     "name": "stdout",
     "output_type": "stream",
     "text": [
      "depth_of_immersion- M: 0.631441948390777 m\n"
     ]
    }
   ],
   "source": [
    "depth_of_immersion = height_of_displacement(diameter_buoy, (weight_buoy + weight_electonics))\n",
    "print('depth_of_immersion- M:',depth_of_immersion,'m')"
   ]
  },
  {
   "cell_type": "markdown",
   "metadata": {},
   "source": [
    "### Center of Bouyancy\n",
    "Calcualte the hight of the center of bouyancy"
   ]
  },
  {
   "cell_type": "code",
   "execution_count": 257,
   "metadata": {},
   "outputs": [
    {
     "name": "stdout",
     "output_type": "stream",
     "text": [
      "center_of_bouyancy - B: 0.3157209741953885 m\n"
     ]
    }
   ],
   "source": [
    "center_of_bouyancy = depth_of_immersion / 2\n",
    "print('center_of_bouyancy - B:',center_of_bouyancy,'m') # as measured form the bottom of the cylinder\n"
   ]
  },
  {
   "cell_type": "markdown",
   "metadata": {},
   "source": [
    "#### Calculate Moment of Innertia\n",
    "\n",
    "Calcualte the Moment of Innertia\n",
    "this is expected to be negligiable as the diameter of the cylinder is so small it adds little stability\n"
   ]
  },
  {
   "cell_type": "code",
   "execution_count": 258,
   "metadata": {},
   "outputs": [
    {
     "name": "stdout",
     "output_type": "stream",
     "text": [
      "moment_of_innertia - I: 1.2473929741401141e-06  units ? \n"
     ]
    }
   ],
   "source": [
    "moment_of_innertia = pi/64 * diameter_buoy**4\n",
    "print('moment_of_innertia - I:',moment_of_innertia,' units ? ')"
   ]
  },
  {
   "cell_type": "markdown",
   "metadata": {},
   "source": [
    "#### Calculate Metacentric Height, determins Stability\n",
    "\n",
    "Calcualte the volume_below_waterline\n",
    "Calcualte the metacentric_height\n"
   ]
  },
  {
   "cell_type": "code",
   "execution_count": 259,
   "metadata": {},
   "outputs": [
    {
     "name": "stdout",
     "output_type": "stream",
     "text": [
      "volume_below_waterline - V 0.0024999999999999996  M^3 \n",
      "metacentric_height - GM 0.03072097419538855  m \n",
      " Stable system\n",
      "height_of_buoy_above_waterline - H 1.4185580516092227 m \n"
     ]
    }
   ],
   "source": [
    "volume_below_waterline = (diameter_buoy/2)**2 * pi * depth_of_immersion\n",
    "print('volume_below_waterline - V',volume_below_waterline,' M^3 ') # *1000 to get litres\n",
    "\n",
    "metacentric_height = (moment_of_innertia / volume_below_waterline) - (center_of_gravity - center_of_bouyancy )\n",
    "print('metacentric_height - GM',metacentric_height,' m ') \n",
    "\n",
    "\n",
    "\n",
    "if( metacentric_height > 0  ):\n",
    "    print(' Stable system')\n",
    "    height_of_buoy_above_waterline = height_buoy - depth_of_immersion\n",
    "    print('height_of_buoy_above_waterline - H',height_of_buoy_above_waterline,'m ') \n",
    "\n",
    "else:\n",
    "    print(' Unstable system - Buoy falls over')"
   ]
  }
 ],
 "metadata": {
  "kernelspec": {
   "display_name": "Python 3",
   "language": "python",
   "name": "python3"
  },
  "language_info": {
   "codemirror_mode": {
    "name": "ipython",
    "version": 3
   },
   "file_extension": ".py",
   "mimetype": "text/x-python",
   "name": "python",
   "nbconvert_exporter": "python",
   "pygments_lexer": "ipython3",
   "version": "3.10.5"
  }
 },
 "nbformat": 4,
 "nbformat_minor": 2
}
