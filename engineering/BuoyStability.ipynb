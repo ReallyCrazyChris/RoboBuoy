{
 "cells": [
  {
   "cell_type": "code",
   "execution_count": 1,
   "metadata": {},
   "outputs": [],
   "source": [
    "from math import pi"
   ]
  },
  {
   "cell_type": "markdown",
   "metadata": {},
   "source": [
    "## Stability of the Bouy in Water\n",
    "\n",
    "- What is the optimal stabiliy and bouyancy ?\n",
    "    - Considering its own weight and weight distribution\n",
    "    - Considering wind loading on the buoy\n",
    "\n",
    "- How much of the bouy is visible above the water line\n",
    "- How do we get maximum stability and maximum visibility above the water line\n",
    "\n"
   ]
  },
  {
   "cell_type": "markdown",
   "metadata": {},
   "source": [
    "## What is the metacentric height of a cylinder when it is floating in the water with its axis vertical\n",
    "\n",
    "\n",
    "\n",
    "\n"
   ]
  },
  {
   "cell_type": "markdown",
   "metadata": {},
   "source": [
    "### Calculate the Center of Gravity \n",
    "\n",
    "Now we calculate the center of gravity of the buoy consisting of \n",
    "- the cylinder of the buoy\n",
    "- the electronics and batter at the bottom of the buoy "
   ]
  },
  {
   "cell_type": "code",
   "execution_count": 3,
   "metadata": {},
   "outputs": [],
   "source": [
    "def center_of_gravity_two_mases(l1,m1,l2,m2):\n",
    "    ''' \n",
    "        calculates the center of gravity of the buoy\n",
    "        l1 lenght of the buoy in meters\n",
    "        m1 weight of the buoy in newtons\n",
    "        l2 length of the internal mass in meters\n",
    "        m2 weight of the internal mass in newtons\n",
    "    '''\n",
    "\n",
    "    cog1 = l1/2 # Asuming the mass is equally distributed throughout the object\n",
    "    cog2 = l2/2 # ditto\n",
    "    cog  = (m1*cog1 + m2*cog2) / ( m1+m2 )\n",
    "    "
   ]
  },
  {
   "cell_type": "code",
   "execution_count": 4,
   "metadata": {},
   "outputs": [
    {
     "name": "stdout",
     "output_type": "stream",
     "text": [
      "center_of_gravity - G None m\n"
     ]
    }
   ],
   "source": [
    "center_of_gravity = center_of_gravity_two_mases(height_buoy,weight_buoy,heigh_electonics,weight_electonics)\n",
    "print('center_of_gravity - G',center_of_gravity,'m')"
   ]
  },
  {
   "cell_type": "markdown",
   "metadata": {},
   "source": [
    "### Depth of Immersion\n",
    "Calcualte how deep the buoy is immersed under the water based on the weight and the volume of water displaced"
   ]
  },
  {
   "cell_type": "code",
   "execution_count": 5,
   "metadata": {},
   "outputs": [],
   "source": [
    "def height_of_displacement(diameter,totalmass):\n",
    "    height = (4 * totalmass ) / (pi * diameter**2 * specific_weight_water ) \n",
    "    return height"
   ]
  },
  {
   "cell_type": "code",
   "execution_count": 6,
   "metadata": {},
   "outputs": [
    {
     "name": "stdout",
     "output_type": "stream",
     "text": [
      "depth_of_immersion- M: 0.7355035814855772 m\n"
     ]
    }
   ],
   "source": [
    "depth_of_immersion = height_of_displacement(diameter_buoy, (weight_buoy + weight_electonics))\n",
    "print('depth_of_immersion- M:',depth_of_immersion,'m')"
   ]
  },
  {
   "cell_type": "markdown",
   "metadata": {},
   "source": [
    "### Center of Bouyancy\n",
    "Calcualte the hight of the center of bouyancy"
   ]
  },
  {
   "cell_type": "code",
   "execution_count": 7,
   "metadata": {},
   "outputs": [
    {
     "name": "stdout",
     "output_type": "stream",
     "text": [
      "center_of_bouyancy - B: 0.3677517907427886 m\n"
     ]
    }
   ],
   "source": [
    "center_of_bouyancy = depth_of_immersion / 2\n",
    "print('center_of_bouyancy - B:',center_of_bouyancy,'m') # as measured form the bottom of the cylinder\n"
   ]
  },
  {
   "cell_type": "markdown",
   "metadata": {},
   "source": [
    "#### Calculate Moment of Innertia\n",
    "\n",
    "Calcualte the Moment of Innertia\n",
    "this is expected to be negligiable as the diameter of the cylinder is so small it adds little stability\n"
   ]
  },
  {
   "cell_type": "code",
   "execution_count": 8,
   "metadata": {},
   "outputs": [
    {
     "name": "stdout",
     "output_type": "stream",
     "text": [
      "moment_of_innertia - I: 1.2473929741401141e-06  units ? \n"
     ]
    }
   ],
   "source": [
    "moment_of_innertia = pi/64 * diameter_buoy**4\n",
    "print('moment_of_innertia - I:',moment_of_innertia,' units ? ')"
   ]
  },
  {
   "cell_type": "markdown",
   "metadata": {},
   "source": [
    "#### Calculate Metacentric Height, determins Stability\n",
    "\n",
    "Calcualte the volume_below_waterline\n",
    "Calcualte the metacentric_height\n"
   ]
  },
  {
   "cell_type": "code",
   "execution_count": 9,
   "metadata": {},
   "outputs": [
    {
     "name": "stdout",
     "output_type": "stream",
     "text": [
      "volume_below_waterline - V 0.0029119999999999997  M^3 \n"
     ]
    },
    {
     "ename": "TypeError",
     "evalue": "unsupported operand type(s) for -: 'NoneType' and 'float'",
     "output_type": "error",
     "traceback": [
      "\u001b[1;31m---------------------------------------------------------------------------\u001b[0m",
      "\u001b[1;31mTypeError\u001b[0m                                 Traceback (most recent call last)",
      "\u001b[1;32mc:\\Users\\bentchvp\\Development\\RoboBuoy\\engineering\\BuoyStability.ipynb Cell 16\u001b[0m line \u001b[0;36m<cell line: 4>\u001b[1;34m()\u001b[0m\n\u001b[0;32m      <a href='vscode-notebook-cell:/c%3A/Users/bentchvp/Development/RoboBuoy/engineering/BuoyStability.ipynb#X21sZmlsZQ%3D%3D?line=0'>1</a>\u001b[0m volume_below_waterline \u001b[39m=\u001b[39m (diameter_buoy\u001b[39m/\u001b[39m\u001b[39m2\u001b[39m)\u001b[39m*\u001b[39m\u001b[39m*\u001b[39m\u001b[39m2\u001b[39m \u001b[39m*\u001b[39m pi \u001b[39m*\u001b[39m depth_of_immersion\n\u001b[0;32m      <a href='vscode-notebook-cell:/c%3A/Users/bentchvp/Development/RoboBuoy/engineering/BuoyStability.ipynb#X21sZmlsZQ%3D%3D?line=1'>2</a>\u001b[0m \u001b[39mprint\u001b[39m(\u001b[39m'\u001b[39m\u001b[39mvolume_below_waterline - V\u001b[39m\u001b[39m'\u001b[39m,volume_below_waterline,\u001b[39m'\u001b[39m\u001b[39m M^3 \u001b[39m\u001b[39m'\u001b[39m) \u001b[39m# *1000 to get litres\u001b[39;00m\n\u001b[1;32m----> <a href='vscode-notebook-cell:/c%3A/Users/bentchvp/Development/RoboBuoy/engineering/BuoyStability.ipynb#X21sZmlsZQ%3D%3D?line=3'>4</a>\u001b[0m metacentric_height \u001b[39m=\u001b[39m (moment_of_innertia \u001b[39m/\u001b[39m volume_below_waterline) \u001b[39m-\u001b[39m (center_of_gravity \u001b[39m-\u001b[39;49m center_of_bouyancy )\n\u001b[0;32m      <a href='vscode-notebook-cell:/c%3A/Users/bentchvp/Development/RoboBuoy/engineering/BuoyStability.ipynb#X21sZmlsZQ%3D%3D?line=4'>5</a>\u001b[0m \u001b[39mprint\u001b[39m(\u001b[39m'\u001b[39m\u001b[39mmetacentric_height - GM\u001b[39m\u001b[39m'\u001b[39m,metacentric_height,\u001b[39m'\u001b[39m\u001b[39m m \u001b[39m\u001b[39m'\u001b[39m) \n\u001b[0;32m      <a href='vscode-notebook-cell:/c%3A/Users/bentchvp/Development/RoboBuoy/engineering/BuoyStability.ipynb#X21sZmlsZQ%3D%3D?line=8'>9</a>\u001b[0m \u001b[39mif\u001b[39;00m( metacentric_height \u001b[39m>\u001b[39m \u001b[39m0\u001b[39m  ):\n",
      "\u001b[1;31mTypeError\u001b[0m: unsupported operand type(s) for -: 'NoneType' and 'float'"
     ]
    }
   ],
   "source": [
    "volume_below_waterline = (diameter_buoy/2)**2 * pi * depth_of_immersion\n",
    "print('volume_below_waterline - V',volume_below_waterline,' M^3 ') # *1000 to get litres\n",
    "\n",
    "metacentric_height = (moment_of_innertia / volume_below_waterline) - (center_of_gravity - center_of_bouyancy )\n",
    "print('metacentric_height - GM',metacentric_height,' m ') \n",
    "\n",
    "\n",
    "\n",
    "if( metacentric_height > 0  ):\n",
    "    print(' Stable system')\n",
    "    height_of_buoy_above_waterline = height_buoy - depth_of_immersion\n",
    "    print('height_of_buoy_above_waterline - H',height_of_buoy_above_waterline,'m ') \n",
    "\n",
    "else:\n",
    "    print(' Unstable system - Buoy falls over')"
   ]
  }
 ],
 "metadata": {
  "kernelspec": {
   "display_name": "Python 3",
   "language": "python",
   "name": "python3"
  },
  "language_info": {
   "codemirror_mode": {
    "name": "ipython",
    "version": 3
   },
   "file_extension": ".py",
   "mimetype": "text/x-python",
   "name": "python",
   "nbconvert_exporter": "python",
   "pygments_lexer": "ipython3",
   "version": "3.10.5"
  }
 },
 "nbformat": 4,
 "nbformat_minor": 2
}
