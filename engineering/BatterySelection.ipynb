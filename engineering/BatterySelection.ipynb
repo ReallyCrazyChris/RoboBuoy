{
 "cells": [
  {
   "cell_type": "markdown",
   "metadata": {},
   "source": [
    "# Battery Selection\n",
    "what is the optimal battery selection considering\n",
    "\n",
    "- maximum operating time \n",
    "- minimum charge time\n",
    "- current consumption\n",
    "- availbe dimensions\n",
    "- battery weigh limit\n"
   ]
  },
  {
   "cell_type": "markdown",
   "metadata": {},
   "source": [
    "#### TODO's\n",
    "\n",
    "###### Measure the current consumption :\n",
    "- Stand By\n",
    "- Peak\n",
    "- StationAverge ( while the robot is holding station )\n",
    "- UnderwayAverage ( While the robot is underway )\n",
    "\n",
    "###### Usage Senario \n",
    "- stand by time\n",
    "- hold time\n",
    "- underway time\n",
    "- estimate the averge power consumption\n",
    "\n",
    "###### Select the Optimal Battery Considering\n",
    "- maximum operating time \n",
    "- minimum charge time\n",
    "- current consumption\n",
    "- availbe dimensions\n",
    "- battery weigh limit\n",
    "\n"
   ]
  },
  {
   "cell_type": "code",
   "execution_count": 5,
   "metadata": {},
   "outputs": [],
   "source": [
    "operatingTime = 14 # hours - before sunrise -> after sunset\n",
    "chargeTime = 2 # hours\n",
    "currentOut = 1.5 # Amphere average current consumption"
   ]
  },
  {
   "cell_type": "code",
   "execution_count": 6,
   "metadata": {},
   "outputs": [
    {
     "name": "stdout",
     "output_type": "stream",
     "text": [
      "batteryCapacity: 21.0 Ah\n"
     ]
    }
   ],
   "source": [
    "batteryCapacity = operatingTime * currentOut #Ah\n",
    "print('batteryCapacity:',batteryCapacity,'Ah')"
   ]
  }
 ],
 "metadata": {
  "kernelspec": {
   "display_name": "Python 3",
   "language": "python",
   "name": "python3"
  },
  "language_info": {
   "codemirror_mode": {
    "name": "ipython",
    "version": 3
   },
   "file_extension": ".py",
   "mimetype": "text/x-python",
   "name": "python",
   "nbconvert_exporter": "python",
   "pygments_lexer": "ipython3",
   "version": "3.10.5"
  }
 },
 "nbformat": 4,
 "nbformat_minor": 2
}
