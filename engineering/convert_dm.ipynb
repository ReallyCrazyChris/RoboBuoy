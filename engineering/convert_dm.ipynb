{
 "cells": [
  {
   "cell_type": "code",
   "execution_count": 25,
   "metadata": {},
   "outputs": [],
   "source": [
    "def convert_dm_dd(degree :str,minutes :str, hemi :str) -> str:\n",
    "    '''\n",
    "    Converts \"degrees, decimal.minutes\" -> degrees.decimal:str \n",
    "\n",
    "    Returns tuple :\n",
    "        float   degrees.decimal with 6 digits of precision,\n",
    "        integer with 9 digits of precision\n",
    "\n",
    "    e.g.\n",
    "    49.6939697, 496939697 =  convert_dm_dd(\"49\",\"41.638187\",\"N\") \n",
    "\n",
    "    Micropyhton has poor floating point precision\n",
    "    this means that distance and bearing calculations are too inaccurate.\n",
    "    The solution here providesds float values, but also integervalues specific for the \n",
    "    distance and bearing calculaiton.\n",
    "    ''' \n",
    "    degree = int(degree)\n",
    "    minuite, minuite_decimal = minutes.split('.')\n",
    "    degree_decimal  = int(minuite + minuite_decimal) // 6\n",
    "\n",
    "    if hemi in ['S','W']:\n",
    "        degree=degree * -1\n",
    "\n",
    "    dd = str(degree)+\".\"+str(degree_decimal) \n",
    "    dd = '{:<010s}'.format(dd) # Micropython 10 Digits Precision (2147483647), \n",
    "    dd = dd[:10] #we choose 9 digit precision\n",
    "\n",
    "    return dd"
   ]
  },
  {
   "cell_type": "code",
   "execution_count": 26,
   "metadata": {},
   "outputs": [],
   "source": [
    "def convert_dd_int(degreedecimal:str) -> int:\n",
    "    '''\n",
    "    converts degree decimal to big int\n",
    "    \"49.6939697\" => 496939697\n",
    "    '''\n",
    "    degree, decimal = degreedecimal.split('.')\n",
    "    dd = str(degree)+str(decimal) \n",
    "    dd = '{:<09s}'.format(dd) # Micropython 10 Digits Precision (2147483647), we choose 9 digit precision\n",
    "    dd = dd[:9]\n",
    "    return int(dd)"
   ]
  },
  {
   "cell_type": "code",
   "execution_count": 27,
   "metadata": {},
   "outputs": [
    {
     "name": "stdout",
     "output_type": "stream",
     "text": [
      "49.6944224\n",
      "496944224\n"
     ]
    }
   ],
   "source": [
    "dd = convert_dm_dd(\"49\",\"41.66534555\",\"N\")\n",
    "print(dd)\n",
    "dd_int = convert_dd_int(dd)\n",
    "print(dd_int)"
   ]
  },
  {
   "cell_type": "code",
   "execution_count": null,
   "metadata": {},
   "outputs": [],
   "source": []
  }
 ],
 "metadata": {
  "kernelspec": {
   "display_name": "Python 3",
   "language": "python",
   "name": "python3"
  },
  "language_info": {
   "codemirror_mode": {
    "name": "ipython",
    "version": 3
   },
   "file_extension": ".py",
   "mimetype": "text/x-python",
   "name": "python",
   "nbconvert_exporter": "python",
   "pygments_lexer": "ipython3",
   "version": "3.10.5"
  }
 },
 "nbformat": 4,
 "nbformat_minor": 2
}
