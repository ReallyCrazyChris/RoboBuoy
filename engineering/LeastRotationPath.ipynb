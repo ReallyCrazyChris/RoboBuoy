{
 "cells": [
  {
   "cell_type": "code",
   "execution_count": 13,
   "metadata": {},
   "outputs": [],
   "source": [
    "\n",
    "\n",
    "import numpy as np\n",
    "import matplotlib.pyplot as plt\n",
    "\n",
    "            "
   ]
  },
  {
   "cell_type": "code",
   "execution_count": 14,
   "metadata": {},
   "outputs": [],
   "source": [
    "class Robot(object):\n",
    "\n",
    "    def __init__( self ):\n",
    "\n",
    "        self.Km = 0.01 # it will take 100 compass measurments to fully align with compass\n",
    "        self.Kg = 0.20 # it will take 5 gps measurements to fully align with gps\n",
    "        self.Kp = 1\n",
    "        self.Ki = 0\n",
    "        self.Kd = 10\n",
    "        error = 0 \n",
    "        self.errSum = 0\n",
    "        self.dErr = 0\n",
    "        self.lastErr = 0\n",
    "\n",
    "        self.course = 0\n",
    "        self.bearing = 0\n",
    "\n",
    "        self.iteration = 0\n",
    "\n",
    "    def fuseGyro(self, gyro, dt):\n",
    "        return gyro*dt + self.course\n",
    "\n",
    "    def fuseCompass(self, magcourse, dt):\n",
    "        return self.Km * magcourse * dt + self.course\n",
    "    \n",
    "    def fuseGPS(self, gpscourse, dt):\n",
    "        return self.Kg * gpscourse * dt + self.course\n",
    "\n",
    "    def courseError(self):\n",
    "        return self.bearing - self.course\n",
    "    \n",
    "    def leastRotation(self,error):\n",
    "        if abs(error) <= 180:\n",
    "            return abs(error)\n",
    "        else:\n",
    "            return abs(error) - 360\n",
    "    \n",
    "    def pid( self,error,dt):\n",
    "\n",
    "        p = self.Kp * error\n",
    "\n",
    "        self.errSum = self.errSum + (error * dt)\n",
    "        i = self.Ki * self.errSum\n",
    "\n",
    "        self.dErr = (error - self.lastErr) / dt\n",
    "        d = self.Kd * self.dErr\n",
    "\n",
    "        self.lastErr = error\n",
    "\n",
    "        return p+i+d, p,i,d\n",
    "    \n",
    "    def drive( self, surge, steer, dt ):\n",
    "\n",
    "        steergain = 1\n",
    "\n",
    "        left = steer * steergain + surge\n",
    "        right = - steer * steergain + surge\n",
    "\n",
    "        # they do not go in reverse\n",
    "        left = max(left,0) \n",
    "        right = max(right,0)\n",
    "\n",
    "        left = min(left, 150)\n",
    "        right = min(right, 150)\n",
    "\n",
    "        return left, right\n",
    "    \n",
    "    def controlLoop(self):\n",
    "\n",
    "        self.fuseGyro(0, 0.001)\n",
    "\n",
    "        if self.iteration % 100 == 0 :\n",
    "            self.fuseCompass(0, 0.01)\n",
    "        \n",
    "        if self.iteration % 1000 == 0:\n",
    "            self.fuseGPS(0, 1)\n",
    "        \n",
    "        self.iteration = self.iteration + 1\n",
    "\n",
    "\n",
    "\n"
   ]
  },
  {
   "cell_type": "code",
   "execution_count": 20,
   "metadata": {},
   "outputs": [
    {
     "ename": "TypeError",
     "evalue": "'float' object cannot be interpreted as an integer",
     "output_type": "error",
     "traceback": [
      "\u001b[1;31m---------------------------------------------------------------------------\u001b[0m",
      "\u001b[1;31mTypeError\u001b[0m                                 Traceback (most recent call last)",
      "\u001b[1;32mc:\\Users\\bentchvp\\Development\\RoboBuoy\\engineering\\LeatRotationPath.ipynb Cell 3\u001b[0m line \u001b[0;36m<cell line: 3>\u001b[1;34m()\u001b[0m\n\u001b[0;32m      <a href='vscode-notebook-cell:/c%3A/Users/bentchvp/Development/RoboBuoy/engineering/LeatRotationPath.ipynb#W2sZmlsZQ%3D%3D?line=0'>1</a>\u001b[0m robot \u001b[39m=\u001b[39m Robot()\n\u001b[1;32m----> <a href='vscode-notebook-cell:/c%3A/Users/bentchvp/Development/RoboBuoy/engineering/LeatRotationPath.ipynb#W2sZmlsZQ%3D%3D?line=2'>3</a>\u001b[0m \u001b[39mfor\u001b[39;00m i \u001b[39min\u001b[39;00m \u001b[39mrange\u001b[39;49m(\u001b[39m0\u001b[39;49m,\u001b[39m1\u001b[39;49m,\u001b[39m0.0001\u001b[39;49m): \n\u001b[0;32m      <a href='vscode-notebook-cell:/c%3A/Users/bentchvp/Development/RoboBuoy/engineering/LeatRotationPath.ipynb#W2sZmlsZQ%3D%3D?line=3'>4</a>\u001b[0m     robot\u001b[39m.\u001b[39mpid(i,\u001b[39m0.001\u001b[39m)\n",
      "\u001b[1;31mTypeError\u001b[0m: 'float' object cannot be interpreted as an integer"
     ]
    }
   ],
   "source": [
    "robot = Robot()\n",
    "\n",
    "for i in range(0,1,0.0001): \n",
    "    robot.pid(i,0.001)\n",
    "\n",
    "        \n",
    "        "
   ]
  }
 ],
 "metadata": {
  "kernelspec": {
   "display_name": "Python 3",
   "language": "python",
   "name": "python3"
  },
  "language_info": {
   "codemirror_mode": {
    "name": "ipython",
    "version": 3
   },
   "file_extension": ".py",
   "mimetype": "text/x-python",
   "name": "python",
   "nbconvert_exporter": "python",
   "pygments_lexer": "ipython3",
   "version": "3.10.5"
  }
 },
 "nbformat": 4,
 "nbformat_minor": 2
}
