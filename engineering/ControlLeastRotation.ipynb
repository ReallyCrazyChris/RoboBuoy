{
 "cells": [
  {
   "cell_type": "markdown",
   "metadata": {},
   "source": [
    "## Least Path of Rotation Control\n",
    "\n",
    "### Problem: \n",
    "When the robot is facing a heading very close to +PI and then an course is set to -PI, The steer is seeing a massive delta driving the robot to rotate eratically\n",
    "\n",
    "### Goal: \n",
    "Cource changes for PI to -PI and vice versa follow the path of least rotation"
   ]
  },
  {
   "cell_type": "code",
   "execution_count": 721,
   "metadata": {},
   "outputs": [],
   "source": [
    "from math import pi"
   ]
  },
  {
   "cell_type": "markdown",
   "metadata": {},
   "source": [
    "### Current Cource Error"
   ]
  },
  {
   "cell_type": "code",
   "execution_count": 722,
   "metadata": {},
   "outputs": [],
   "source": [
    "\n",
    "def pathError(heading,course):\n",
    "    error = course - heading \n",
    "    return error"
   ]
  },
  {
   "cell_type": "code",
   "execution_count": 723,
   "metadata": {},
   "outputs": [
    {
     "name": "stdout",
     "output_type": "stream",
     "text": [
      "path error is small -1.5707963267948966 as expected\n"
     ]
    }
   ],
   "source": [
    "# using small positive difference in heading and course\n",
    "heading = pi\n",
    "course = pi/2\n",
    "print('path error is small', pathError(heading,course), 'as expected')"
   ]
  },
  {
   "cell_type": "code",
   "execution_count": 724,
   "metadata": {},
   "outputs": [
    {
     "name": "stdout",
     "output_type": "stream",
     "text": [
      "ISSUE: path error is overly large -4.71238898038469 as expected\n"
     ]
    }
   ],
   "source": [
    "# using small difference in heading and course, but transitioning hte course to the SSW\n",
    "heading = pi\n",
    "course = -pi/2\n",
    "print('ISSUE: path error is overly large', pathError(heading,course), 'as expected')"
   ]
  },
  {
   "cell_type": "code",
   "execution_count": 725,
   "metadata": {},
   "outputs": [],
   "source": [
    "def optimizedPathError(heading,course):\n",
    "    \n",
    "    error = 0\n",
    "    errorA = abs(course - heading)\n",
    "    errorB = abs(course + heading) \n",
    "\n",
    "    print('errorA', errorA)\n",
    "    print('errorB', errorB)\n",
    "\n",
    "    #return the least path of rotation\n",
    "    if(abs(errorA) < abs(errorB)):\n",
    "        error =  errorA * -1\n",
    "    else:\n",
    "        error = errorB\n",
    "\n",
    "\n",
    "\n",
    "    print(\"heading: %5.2f course: %5.2f a: %5.2f b: %5.2f e: %5.2f\" % (heading ,course,errorA, errorB, error))\n",
    "    print('steer', error)\n",
    "    return error\n",
    "    \n",
    "\n",
    "\n",
    "     "
   ]
  },
  {
   "cell_type": "code",
   "execution_count": 726,
   "metadata": {},
   "outputs": [
    {
     "name": "stdout",
     "output_type": "stream",
     "text": [
      "errorA 1.5707963267948966\n",
      "errorB 4.71238898038469\n",
      "heading:  3.14 course:  1.57 a:  1.57 b:  4.71 e: -1.57\n",
      "steer -1.5707963267948966\n"
     ]
    },
    {
     "data": {
      "text/plain": [
       "-1.5707963267948966"
      ]
     },
     "execution_count": 726,
     "metadata": {},
     "output_type": "execute_result"
    }
   ],
   "source": [
    "# using small positive difference in heading and course\n",
    "heading = pi\n",
    "course = pi/2\n",
    "optimizedPathError(heading,course)"
   ]
  },
  {
   "cell_type": "code",
   "execution_count": 727,
   "metadata": {},
   "outputs": [
    {
     "name": "stdout",
     "output_type": "stream",
     "text": [
      "errorA 4.71238898038469\n",
      "errorB 1.5707963267948966\n",
      "heading:  3.14 course: -1.57 a:  4.71 b:  1.57 e:  1.57\n",
      "steer 1.5707963267948966\n"
     ]
    },
    {
     "data": {
      "text/plain": [
       "1.5707963267948966"
      ]
     },
     "execution_count": 727,
     "metadata": {},
     "output_type": "execute_result"
    }
   ],
   "source": [
    "# using small positive difference in heading and course\n",
    "heading = pi\n",
    "course = -pi/2\n",
    "optimizedPathError(heading,course)"
   ]
  },
  {
   "cell_type": "code",
   "execution_count": 728,
   "metadata": {},
   "outputs": [
    {
     "name": "stdout",
     "output_type": "stream",
     "text": [
      "errorA 0.04159265358979303\n",
      "errorB 6.241592653589793\n",
      "heading:  3.14 course:  3.10 a:  0.04 b:  6.24 e: -0.04\n",
      "steer -0.04159265358979303\n"
     ]
    },
    {
     "data": {
      "text/plain": [
       "-0.04159265358979303"
      ]
     },
     "execution_count": 728,
     "metadata": {},
     "output_type": "execute_result"
    }
   ],
   "source": [
    "heading = pi\n",
    "course = 3.10\n",
    "optimizedPathError(heading,course)"
   ]
  },
  {
   "cell_type": "code",
   "execution_count": 729,
   "metadata": {},
   "outputs": [
    {
     "name": "stdout",
     "output_type": "stream",
     "text": [
      "errorA 6.241592653589793\n",
      "errorB 0.04159265358979303\n",
      "heading:  3.14 course: -3.10 a:  6.24 b:  0.04 e:  0.04\n",
      "steer 0.04159265358979303\n"
     ]
    },
    {
     "data": {
      "text/plain": [
       "0.04159265358979303"
      ]
     },
     "execution_count": 729,
     "metadata": {},
     "output_type": "execute_result"
    }
   ],
   "source": [
    "heading = pi\n",
    "course = -3.10\n",
    "optimizedPathError(heading,course)"
   ]
  },
  {
   "cell_type": "code",
   "execution_count": 730,
   "metadata": {},
   "outputs": [
    {
     "name": "stdout",
     "output_type": "stream",
     "text": [
      "errorA 6.241592653589793\n",
      "errorB 0.04159265358979303\n",
      "heading: -3.14 course:  3.10 a:  6.24 b:  0.04 e:  0.04\n",
      "steer 0.04159265358979303\n"
     ]
    },
    {
     "data": {
      "text/plain": [
       "0.04159265358979303"
      ]
     },
     "execution_count": 730,
     "metadata": {},
     "output_type": "execute_result"
    }
   ],
   "source": [
    "heading = -pi\n",
    "course = 3.10\n",
    "optimizedPathError(heading,course)"
   ]
  },
  {
   "cell_type": "code",
   "execution_count": 731,
   "metadata": {},
   "outputs": [
    {
     "name": "stdout",
     "output_type": "stream",
     "text": [
      "errorA 0.04159265358979303\n",
      "errorB 6.241592653589793\n",
      "heading: -3.14 course: -3.10 a:  0.04 b:  6.24 e: -0.04\n",
      "steer -0.04159265358979303\n"
     ]
    },
    {
     "data": {
      "text/plain": [
       "-0.04159265358979303"
      ]
     },
     "execution_count": 731,
     "metadata": {},
     "output_type": "execute_result"
    }
   ],
   "source": [
    "heading = -pi\n",
    "course = -3.10\n",
    "optimizedPathError(heading,course)"
   ]
  },
  {
   "cell_type": "code",
   "execution_count": null,
   "metadata": {},
   "outputs": [],
   "source": [
    "def newMethod(course,heading):\n",
    "\n",
    "    diffA = course - heading\n",
    "    diffB = (2*pi + diffA) %(2*pi)\n",
    " \n",
    "    # shortest path\n",
    "    if diffA >= diffB:\n",
    "        error = diffB\n",
    "    else:\n",
    "        error = diffA\n",
    "    # normalize\n",
    "    error = (error + pi) % (2 * pi) - pi\n",
    "\n",
    "    error = round(error,2)\n",
    "\n",
    "    print(\"course: %5.2f heading: %5.2f error: %5.2f\" % (course ,heading,error))\n",
    "    return error"
   ]
  },
  {
   "cell_type": "code",
   "execution_count": 733,
   "metadata": {},
   "outputs": [],
   "source": [
    "h1 = 0\n",
    "c1 = 2\n",
    "c2 = -2\n",
    "h2a = pi\n",
    "h2b = -pi"
   ]
  },
  {
   "cell_type": "code",
   "execution_count": 734,
   "metadata": {},
   "outputs": [
    {
     "name": "stdout",
     "output_type": "stream",
     "text": [
      "Validating the method\n",
      "course:  2.00 heading:  0.00 error:  2.00\n",
      "course:  2.00 heading:  3.14 error: -1.14\n",
      "course:  2.00 heading: -3.14 error: -1.14\n",
      "course: -2.00 heading:  0.00 error: -2.00\n",
      "course: -2.00 heading:  3.14 error:  1.14\n",
      "course: -2.00 heading: -3.14 error:  1.14\n",
      "course: -2.00 heading:  2.00 error:  2.28\n",
      "course:  2.00 heading: -2.00 error: -2.28\n"
     ]
    }
   ],
   "source": [
    "\n",
    "print('Validating the method')\n",
    "\n",
    "assert newMethod(c1,h1)  == 2,      f\"shouldbe 2\"\n",
    "assert newMethod(c1,h2a) == -1.14,  f\"shouldbe -1.14\"\n",
    "assert newMethod(c1,h2b) == -1.14,  f\"shouldbe -1.14\"\n",
    "assert newMethod(c2,h1)  == -2,     f\"shouldbe -2\"\n",
    "assert newMethod(c2,h2a) == 1.14,   f\"shouldbe 1.14\"\n",
    "assert newMethod(c2,h2b) == 1.14,   f\"shouldbe 1.14\"\n",
    "assert newMethod(c2,c1)  == 2.28,   f\"shouldbe 2.28\"\n",
    "assert newMethod(c1,c2)  == -2.28,  f\"shouldbe -2.28\""
   ]
  },
  {
   "cell_type": "code",
   "execution_count": null,
   "metadata": {},
   "outputs": [],
   "source": []
  },
  {
   "cell_type": "code",
   "execution_count": null,
   "metadata": {},
   "outputs": [],
   "source": []
  }
 ],
 "metadata": {
  "kernelspec": {
   "display_name": "Python 3",
   "language": "python",
   "name": "python3"
  },
  "language_info": {
   "codemirror_mode": {
    "name": "ipython",
    "version": 3
   },
   "file_extension": ".py",
   "mimetype": "text/x-python",
   "name": "python",
   "nbconvert_exporter": "python",
   "pygments_lexer": "ipython3",
   "version": "3.10.5"
  }
 },
 "nbformat": 4,
 "nbformat_minor": 2
}
