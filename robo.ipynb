{
 "cells": [
  {
   "cell_type": "code",
   "execution_count": 138,
   "metadata": {},
   "outputs": [],
   "source": [
    "def constrain(heading):\n",
    "    '''heading is constrained to -180 to 180 degree range'''\n",
    "    if (heading > 180):\n",
    "        heading -= 360\n",
    "    \n",
    "    if (heading < -180):\n",
    "        heading += 360\n",
    "    return heading    \n",
    "\n",
    "\n",
    "\n",
    "\n",
    "\n",
    "\n"
   ]
  },
  {
   "cell_type": "code",
   "execution_count": 139,
   "metadata": {},
   "outputs": [],
   "source": [
    "class Controller():\n",
    "    def __init__(self):\n",
    "\n",
    "        # Robot Information\n",
    "        self.name = \"Buoy 1\"\n",
    "        self.battery = 63 # % Capacity of Battery Remaining\n",
    "\n",
    "\n",
    "        # Thruster Control\n",
    "        self.active = False # enables / disbles the thrusters\n",
    "        self.surge = 0 #  desired robot speed cm/s\n",
    "        self.steer = 0 #  desired robot angualr rotation deg/s\n",
    "        self.vmin = 0  #  minimum robot velocity cm/s\n",
    "        self.vmax = 50 #  maximum robot velocity cm/s\n",
    "        self.steergain = 100 # steering gain\n",
    "        self.mpl = 53  #  left pwm value where the thruster start to turn\n",
    "        self.mpr = 55  #  right pwm value where the thruster start to turn\n",
    "        self.maxpwm = 110 # maximum pwm signal sent to the thrusters\n",
    "\n",
    "        # Position/Motion\n",
    "        self.positionvalid = False\n",
    "        self.latitude = 0 # degree decimal north\n",
    "        self.longitude = 0 # degree decimal east\n",
    "        self.latitude_string = '' # degree decimal north 24 bit precision, \n",
    "        self.longitude_string = ''# degree decimal east 24 bit precision\n",
    "        self.speed = 0.0  #meters per second\n",
    "\n",
    "        # Pathfinding\n",
    "        self.underway = False # should the robot persue its path\n",
    "        self.currentcourse = 0 # deg° of the current heading\n",
    "        self.desiredcourse = 0 # deg° of the desired heading\n",
    "        self.currentposition = (0,0) # degree decimal north, degree decimal east\n",
    "        self.desiredposition = (0,0) # degree decimal north, degree decimal east\n",
    "        self.distance = 0 # float meters : distance to desired posiiton\n",
    "        self.waypoints = [] # array of positions\n",
    "        \n",
    "        # Steering\n",
    "        # PID tuning gains to control the steering based on desiredcourse vs currentcourse\n",
    "        self.Kp = 1\n",
    "        self.Ki = 0 #.5\n",
    "        self.Kd = 0# 0.5 #.0001\n",
    "\n",
    "        # PID variables to matintain course by steering\n",
    "        self.error = 0\n",
    "        self.errSum = 0\n",
    "        self.dErr = 0      \n",
    "        self.lastErr = 0  # Previous error\n",
    "\n",
    "        # Complimentary Filter tunings\n",
    "        self.compassalpha = 0.97  # compasComplemt filter weighted towards the gyro\n",
    "        self.gpsalpha = 0.03      # gpsComplement  filter weighted towards the gps\n",
    "\n",
    "\n",
    "    def pidloop(self, deltaT):\n",
    "        ''' steering angle to maintain the desired course'''\n",
    "        \n",
    "        self.error  = self.desiredcourse - self.currentcourse\n",
    "\n",
    "        #self.errSum = self.errSum + (self.error * deltaT)\n",
    "        #self.dErr = (self.error - self.lastErr) / deltaT\n",
    "    \n",
    "        #self.steer = (self.Kp * self.error) + (self.Ki * self.errSum) + (self.Kd * self.dErr)\n",
    "        \n",
    "        self.lastErr = self.error\n",
    "\n",
    "        print('error',self.error)\n",
    "\n",
    "            "
   ]
  },
  {
   "cell_type": "code",
   "execution_count": 140,
   "metadata": {},
   "outputs": [
    {
     "name": "stdout",
     "output_type": "stream",
     "text": [
      "error -350\n",
      "None -350\n"
     ]
    }
   ],
   "source": [
    "c = Controller()\n",
    "\n",
    "c.currentcourse = 175\n",
    "c.desiredcourse = -175\n",
    "\n",
    "print(c.pidloop(1) , c.error)\n"
   ]
  }
 ],
 "metadata": {
  "kernelspec": {
   "display_name": "Python 3.10.5 64-bit",
   "language": "python",
   "name": "python3"
  },
  "language_info": {
   "codemirror_mode": {
    "name": "ipython",
    "version": 3
   },
   "file_extension": ".py",
   "mimetype": "text/x-python",
   "name": "python",
   "nbconvert_exporter": "python",
   "pygments_lexer": "ipython3",
   "version": "3.10.5"
  },
  "orig_nbformat": 4,
  "vscode": {
   "interpreter": {
    "hash": "369f2c481f4da34e4445cda3fffd2e751bd1c4d706f27375911949ba6bb62e1c"
   }
  }
 },
 "nbformat": 4,
 "nbformat_minor": 2
}
