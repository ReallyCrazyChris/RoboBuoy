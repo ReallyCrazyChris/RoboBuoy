{
 "cells": [
  {
   "cell_type": "code",
   "execution_count": 17,
   "metadata": {},
   "outputs": [],
   "source": [
    "def convert_dm_dd(degree :str,minutes :str, hemi :str) -> str:\n",
    "    '''\n",
    "    Converts \"degrees, decimal.minutes\" -> degrees.decimal:str \n",
    "\n",
    "    Returns tuple :\n",
    "        float   degrees.decimal with 6 digits of precision,\n",
    "        integer with 9 digits of precision\n",
    "\n",
    "    e.g.\n",
    "    49.6939697, 496939697 =  convert_dm_dd(\"49\",\"41.638187\",\"N\") \n",
    "\n",
    "    Micropyhton has poor floating point precision\n",
    "    this means that distance and bearing calculations are too inaccurate.\n",
    "    The solution here providesds float values, but also integervalues specific for the \n",
    "    distance and bearing calculaiton.\n",
    "    ''' \n",
    "    degree = int(degree)\n",
    "    minuite, minuite_decimal = minutes.split('.')\n",
    "    degree_decimal  = int(minuite + minuite_decimal) // 6\n",
    "\n",
    "    if hemi in ['S','W']:\n",
    "        degree=degree * -1\n",
    "\n",
    "    dd = str(degree)+\".\"+str(degree_decimal) \n",
    "    dd = '{:<010s}'.format(dd) # Micropython 10 Digits Precision (2147483647), \n",
    "    dd = dd[:10] #we choose 9 digit precision\n",
    "\n",
    "    return dd"
   ]
  },
  {
   "cell_type": "code",
   "execution_count": 18,
   "metadata": {},
   "outputs": [
    {
     "data": {
      "text/plain": [
       "'49.69440000'"
      ]
     },
     "execution_count": 18,
     "metadata": {},
     "output_type": "execute_result"
    }
   ],
   "source": [
    "convert_dm_dd(\"49\",\"41.665\",\"N\")"
   ]
  }
 ],
 "metadata": {
  "kernelspec": {
   "display_name": "Python 3",
   "language": "python",
   "name": "python3"
  },
  "language_info": {
   "codemirror_mode": {
    "name": "ipython",
    "version": 3
   },
   "file_extension": ".py",
   "mimetype": "text/x-python",
   "name": "python",
   "nbconvert_exporter": "python",
   "pygments_lexer": "ipython3",
   "version": "3.10.5"
  }
 },
 "nbformat": 4,
 "nbformat_minor": 2
}
