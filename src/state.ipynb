{
 "cells": [
  {
   "cell_type": "code",
   "execution_count": 75,
   "metadata": {},
   "outputs": [],
   "source": [
    "class StateMachine(object):\n",
    "    \"\"\"the brain - manages states\"\"\"\n",
    "    def __init__(self):\n",
    "        self.states = {}\n",
    "        self.active_state = None\n",
    "\n",
    "    def add_state(self, state):\n",
    "        \"\"\"Adds a new state\"\"\"\n",
    "        self.states[state.name] = state\n",
    "\n",
    "    def think(self):\n",
    "        \"\"\"\n",
    "        Does whatever the current state instructs\n",
    "        and changes to new state if needed.\n",
    "        \"\"\"\n",
    "        if self.active_state is not None:\n",
    "            self.active_state.do_actions()\n",
    "        new_state_name = self.active_state.check_conditions()\n",
    "        if new_state_name is not None:\n",
    "            self.setState(new_state_name)\n",
    "\n",
    "    def setState(self, new_state_name):\n",
    "        \"\"\"Changes states and performs appropriate exit and entry actions.\"\"\"\n",
    "        if self.active_state is not None:\n",
    "            self.active_state.exit_actions()\n",
    "        self.active_state = self.states[new_state_name]\n",
    "        self.active_state.__entry_actions__()\n",
    "\n",
    "\n",
    "class State(object):\n",
    "    \"\"\"An abstract state.\"\"\"\n",
    "    def __init__(self, name):\n",
    "        self.name = name\n",
    "\n",
    "    def __entry_actions__(self):\n",
    "        \"\"\"Perform these actions when this state is first entered.\"\"\"\n",
    "        self.entry_actions()\n",
    "\n",
    "    def do_actions(self):\n",
    "        \"\"\"Perform these actions when in this state.\"\"\"\n",
    "        pass\n",
    "\n",
    "    def check_conditions(self):\n",
    "        \"\"\"Check these conditions to see if state should be changed.\"\"\"\n",
    "        pass\n",
    "\n",
    "    def entry_actions(self):\n",
    "        \"\"\"Perform these actions when this state is first entered.\"\"\"\n",
    "        pass\n",
    "\n",
    "    def exit_actions(self):\n",
    "        \"\"\"Perform these actions when this state is exited.\"\"\"\n",
    "        pass"
   ]
  },
  {
   "cell_type": "code",
   "execution_count": 76,
   "metadata": {},
   "outputs": [],
   "source": [
    "sm = StateMachine()"
   ]
  },
  {
   "cell_type": "code",
   "execution_count": 77,
   "metadata": {},
   "outputs": [],
   "source": [
    "class StopedState(State):\n",
    "\n",
    "    def do_actions(self):\n",
    "        \"\"\"Perform these actions when in this state.\"\"\"\n",
    "        print('do_actions')\n",
    "\n",
    "    def check_conditions(self):\n",
    "        \"\"\"Check these conditions to see if state should be changed.\"\"\"\n",
    "        print('check_conditions')\n",
    "        return 'manual'\n",
    "        \n",
    "    def entry_actions(self):\n",
    "        \"\"\"Perform these actions when this state is first entered.\"\"\"\n",
    "        print('stoped entry')\n",
    "\n",
    "    def exit_actions(self):\n",
    "        \"\"\"Perform these actions when this state is exited.\"\"\"\n",
    "        print('stoped exit')\n",
    "        "
   ]
  },
  {
   "cell_type": "code",
   "execution_count": 78,
   "metadata": {},
   "outputs": [],
   "source": [
    "class AutoState(State):\n",
    "\n",
    "    def do_actions(self):\n",
    "        \"\"\"Perform these actions when in this state.\"\"\"\n",
    "        print('do_actions')\n",
    "\n",
    "    def check_conditions(self):\n",
    "        \"\"\"Check these conditions to see if state should be changed.\"\"\"\n",
    "        print('check_conditions')\n",
    "        return 'stopped'\n",
    "        \n",
    "    def entry_actions(self):\n",
    "        \"\"\"Perform these actions when this state is first entered.\"\"\"\n",
    "        print('auto entry')\n",
    "\n",
    "    def exit_actions(self):\n",
    "        \"\"\"Perform these actions when this state is exited.\"\"\"\n",
    "        print('auto exit')"
   ]
  },
  {
   "cell_type": "code",
   "execution_count": 79,
   "metadata": {},
   "outputs": [],
   "source": [
    "class ManualState(State):\n",
    "\n",
    "    def do_actions(self):\n",
    "        \"\"\"Perform these actions when in this state.\"\"\"\n",
    "        print('do_actions')\n",
    "\n",
    "    def check_conditions(self):\n",
    "        \"\"\"Check these conditions to see if state should be changed.\"\"\"\n",
    "        print('check_conditions')\n",
    "        return 'auto'\n",
    "        \n",
    "    def entry_actions(self):\n",
    "        \"\"\"Perform these actions when this state is first entered.\"\"\"\n",
    "        print('manual entry')\n",
    "\n",
    "    def exit_actions(self):\n",
    "        \"\"\"Perform these actions when this state is exited.\"\"\"\n",
    "        print('manual exit')"
   ]
  },
  {
   "cell_type": "code",
   "execution_count": 80,
   "metadata": {},
   "outputs": [],
   "source": [
    "stopped = StopedState('stopped')\n",
    "auto = AutoState('auto')\n",
    "manual = ManualState('manual')"
   ]
  },
  {
   "cell_type": "code",
   "execution_count": 81,
   "metadata": {},
   "outputs": [],
   "source": [
    "sm.add_state(stopped)\n",
    "sm.add_state(auto)\n",
    "sm.add_state(manual)"
   ]
  },
  {
   "cell_type": "code",
   "execution_count": 82,
   "metadata": {},
   "outputs": [
    {
     "name": "stdout",
     "output_type": "stream",
     "text": [
      "stoped entry\n",
      "do_actions\n",
      "check_conditions\n",
      "stoped exit\n",
      "manual entry\n"
     ]
    }
   ],
   "source": [
    "sm.setState('stopped')\n",
    "sm.think()\n"
   ]
  },
  {
   "cell_type": "code",
   "execution_count": 83,
   "metadata": {},
   "outputs": [
    {
     "name": "stdout",
     "output_type": "stream",
     "text": [
      "do_actions\n",
      "check_conditions\n",
      "manual exit\n",
      "auto entry\n",
      "do_actions\n",
      "check_conditions\n",
      "auto exit\n",
      "stoped entry\n",
      "do_actions\n",
      "check_conditions\n",
      "stoped exit\n",
      "manual entry\n",
      "do_actions\n",
      "check_conditions\n",
      "manual exit\n",
      "auto entry\n"
     ]
    }
   ],
   "source": [
    "sm.think()\n",
    "sm.think()\n",
    "sm.think()\n",
    "sm.think()\n"
   ]
  }
 ],
 "metadata": {
  "kernelspec": {
   "display_name": "Python 3",
   "language": "python",
   "name": "python3"
  },
  "language_info": {
   "codemirror_mode": {
    "name": "ipython",
    "version": 3
   },
   "file_extension": ".py",
   "mimetype": "text/x-python",
   "name": "python",
   "nbconvert_exporter": "python",
   "pygments_lexer": "ipython3",
   "version": "3.10.5"
  },
  "orig_nbformat": 4
 },
 "nbformat": 4,
 "nbformat_minor": 2
}
