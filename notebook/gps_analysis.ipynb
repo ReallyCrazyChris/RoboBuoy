{
 "cells": [
  {
   "cell_type": "markdown",
   "metadata": {},
   "source": [
    "There is a lack of precisioS on the #MCU"
   ]
  },
  {
   "cell_type": "markdown",
   "metadata": {},
   "source": []
  },
  {
   "cell_type": "markdown",
   "metadata": {},
   "source": [
    "## The issue with ESP32 and Micropython is precision\n",
    "Accuracy versus decimal places on decimal degree (DD) gps coordinates\n",
    "\n",
    "| places | degrees    | distance |   |   |\n",
    "|--------|------------|----------|---|---|\n",
    "| 0      | 1.0        | 111 km   |   |   |\n",
    "| 1      | 0.1        | 11.1 km  |   |   |\n",
    "| 2      | 0.01       | 1.11 km  |   |   |\n",
    "| 3      | 0.001      | 111 m    |   |   |\n",
    "| 4      | 0.0001     | 11.1 m   |   |   |\n",
    "| 5      | 0.00001    | 1.11 m   |   |   |\n",
    "| 6      | 0.000001   | 0.111 m  |   |   |\n",
    "| 7      | 0.0000001  | 1.11 cm  |   |   |\n",
    "| 8      | 0.00000001 | 1.11 m   |   |   |\n",
    "\n",
    "The MCU only offers 5 decimal plcaces provising an low accuracy of 1,11 m at the equator \n",
    "5\t    0.00001\t    1.11 m\n",
    "\n",
    "We need 6 decimal places to effectively calculate the course and distance to a ALypoint.\n",
    "as the robot approached the target destination, the noise of the gps position becomes \n",
    "difficult to deal with.\n",
    "\n",
    "http://wiki.gis.com/wiki/index.php/Decimal_degrees\n",
    "\n",
    "## Issues to solve:\n",
    "- We have problems in represending the Degrees Decimal format e.g. 49.873216464 Degrees\n",
    "- We have issues in calculating the bearing\n",
    "- We have issues in calculating the distance between two local points\n",
    "\n",
    "## Origional GPS Data\n",
    "looks like this:\n",
    "[Meridian Degree, Minutes Decial, Hemishpere]\n",
    "lat (49, 41.6479, 'N')\n",
    "long (10, 49.64517, 'E')\n",
    "\n"
   ]
  },
  {
   "cell_type": "code",
   "execution_count": 46,
   "metadata": {},
   "outputs": [],
   "source": [
    "# lat, long in Degree and Minutes Decimal format\n",
    "lat,lng =   [(49, 41.64847, 'N') , (10, 49.64521, 'E')]\n",
    "\n",
    "waypoints =[\n",
    "[('49', '41.54847', 'N') , ('10', '49.64521', 'E')],\n",
    "[('49', '41.64847', 'N') , ('10', '49.74521', 'E')],\n",
    "[('49', '41.74847', 'N') , ('10', '49.94521', 'E')],\n",
    "]\n"
   ]
  },
  {
   "cell_type": "markdown",
   "metadata": {},
   "source": [
    "It is far more usefull for the microcontroller to calculate with large numbers instead of small numbers\n",
    "\n",
    "[('49', '41.54847', 'N'), ('10', '49.64521', 'E')]  => (49694411, 10827578)\n"
   ]
  },
  {
   "cell_type": "code",
   "execution_count": 47,
   "metadata": {},
   "outputs": [],
   "source": [
    "def get_usefullnumber( dmh ):\n",
    "\n",
    "    #print('input:',dmh)\n",
    "\n",
    "    degree = dmh[0]\n",
    "    minuite, minuite_decimal = dmh[1].split('.')\n",
    "    hemi = dmh[2]\n",
    "\n",
    "    #print('data:',degree , minuite, minuite_decimal, hemi)\n",
    "\n",
    "    # it is to be expected that the character lengthts will change\n",
    "    # to deal with this we normailze the character lengeths and format\n",
    "\n",
    "    # normailze DMS (degrees, minutes, ,minnutes after decimal)\n",
    "    degree = (\"0000\"+degree)[-2:]\n",
    "    minuite = (\"000\"+minuite)[-2:]\n",
    "    minuite_decimal = (minuite_decimal+\"000000\")[:6]\n",
    "\n",
    "    \n",
    "    degree = int(degree)\n",
    "    degree_decimal  = int(minuite + minuite_decimal) // 60\n",
    "    bignumber = degree* 1000000 + degree_decimal\n",
    "\n",
    "    if hemi in ['S','W']:\n",
    "        degree=degree * -1\n",
    "        bignumber = bignumber * -1\n",
    "    \n",
    "    #print(degree,degree_decimal, bignumber)\n",
    "\n",
    "    return bignumber\n",
    "   "
   ]
  },
  {
   "cell_type": "code",
   "execution_count": 48,
   "metadata": {},
   "outputs": [
    {
     "data": {
      "text/plain": [
       "49692474"
      ]
     },
     "execution_count": 48,
     "metadata": {},
     "output_type": "execute_result"
    }
   ],
   "source": [
    "#Test\n",
    "get_usefullnumber( ('49', '41.54847', 'N') )"
   ]
  },
  {
   "cell_type": "code",
   "execution_count": 49,
   "metadata": {},
   "outputs": [
    {
     "name": "stdout",
     "output_type": "stream",
     "text": [
      "[(49692474, 10827420), (49694141, 10829086), (49695807, 10832420)]\n"
     ]
    }
   ],
   "source": [
    "bignumber_waypoints = []\n",
    "\n",
    "for waypoint in waypoints:\n",
    "    bignumber_waypoints.append((get_usefullnumber(waypoint[0]), get_usefullnumber(waypoint[1])))\n",
    "\n",
    "print(bignumber_waypoints)"
   ]
  },
  {
   "cell_type": "code",
   "execution_count": 50,
   "metadata": {},
   "outputs": [],
   "source": [
    "import numpy as np\n",
    "def distance(position1,position2):    \n",
    "    \n",
    "    R = 6373000        # Radius of the earth in m\n",
    "    \n",
    "    lat1, long1 = np.deg2rad(position1)\n",
    "    lat2, long2 = np.deg2rad(position2)\n",
    "    \n",
    "    dLat = lat2 - lat1\n",
    "    dLon = long2 - long1\n",
    "    \n",
    "    x = dLon * np.cos((lat1+lat2)/2)\n",
    "    distance = np.sqrt(x**2 + dLat**2) * R\n",
    "    \n",
    "    return distance"
   ]
  },
  {
   "cell_type": "code",
   "execution_count": 51,
   "metadata": {},
   "outputs": [
    {
     "name": "stdout",
     "output_type": "stream",
     "text": [
      "516.5884791528603 meters\n"
     ]
    }
   ],
   "source": [
    "# calculate the distance between Ramsberg and Allmannsdorf\n",
    "\n",
    "RA = (49.692474, 10.827420)\n",
    "AL = (49.695807, 10.832420)\n",
    "\n",
    "print( distance(RA,AL),\"meters\")"
   ]
  },
  {
   "cell_type": "code",
   "execution_count": 52,
   "metadata": {},
   "outputs": [],
   "source": [
    "# micropython friendly version of diastance ... ie no numpy\n",
    "from math import radians, cos, sqrt\n",
    "def distance(position1,position2):    \n",
    "    \n",
    "    R = 6373000        # Radius of the earth in m\n",
    "    \n",
    "    lat1, long1 = position1\n",
    "    lat1, long1 = radians(lat1), radians(long1)\n",
    "\n",
    "    lat2, long2 = position2\n",
    "    lat2, long2 = radians(lat2), radians(long2)\n",
    "    \n",
    "    dLat = lat2 - lat1\n",
    "    dLon = long2 - long1\n",
    "    \n",
    "    x = dLon * cos((lat1+lat2)/2)\n",
    "    distance = sqrt(x**2 + dLat**2) * R\n",
    "    \n",
    "    return distance"
   ]
  },
  {
   "cell_type": "code",
   "execution_count": 53,
   "metadata": {},
   "outputs": [
    {
     "name": "stdout",
     "output_type": "stream",
     "text": [
      "516.5884791528603 meters\n"
     ]
    }
   ],
   "source": [
    "# calculate the distance between Ramsberg and Allmannsdorf\n",
    "\n",
    "RA = (49.692474, 10.827420)\n",
    "AL = (49.695807, 10.832420)\n",
    "\n",
    "print( distance(RA,AL),\"meters\")"
   ]
  },
  {
   "cell_type": "code",
   "execution_count": 54,
   "metadata": {},
   "outputs": [],
   "source": [
    "def bearing(position1, position2):\n",
    "    \"\"\"\n",
    "    Calculate the bearing between two GPS coordinates \n",
    "    \n",
    "    Equations from: http://www.movable-type.co.uk/scripts/latlong.html\n",
    "    \n",
    "    Input arguments:\n",
    "        position1 = lat/long pair in decimal degrees DD.dddddd\n",
    "        position2 = lat/long pair in decimal degrees DD.dddddd\n",
    "    \n",
    "    Returns:\n",
    "        bearing = initial bearing from position 1 to position 2 in degrees\n",
    "            \n",
    "    Created: Joshua Vaughan - joshua.vaughan@louisiana.edu - 04/23/14\n",
    "    \n",
    "    Modified:\n",
    "        *\n",
    "        \n",
    "    \"\"\"\n",
    "    \n",
    "    lat1, long1 = np.deg2rad(position1)\n",
    "    lat2, long2 = np.deg2rad(position2)\n",
    "    \n",
    "    dLon = long2 - long1\n",
    "    \n",
    "    y = np.sin(dLon) * np.cos(lat2)\n",
    "    x = np.cos(lat1)*np.sin(lat2) - np.sin(lat1)*np.cos(lat2)*np.cos(dLon)\n",
    "    \n",
    "    bearing = (np.rad2deg(np.arctan2(y, x)) + 360) % 360\n",
    "    \n",
    "    return bearing"
   ]
  },
  {
   "cell_type": "code",
   "execution_count": 55,
   "metadata": {},
   "outputs": [
    {
     "name": "stdout",
     "output_type": "stream",
     "text": [
      "44.137403710636704 degrees\n"
     ]
    }
   ],
   "source": [
    "# calculate the bearing between two points\n",
    "\n",
    "RA = (49.692474, 10.827420)\n",
    "AL = (49.695807, 10.832420)\n",
    "\n",
    "print( bearing(RA,AL), 'degrees')\n"
   ]
  },
  {
   "cell_type": "code",
   "execution_count": 56,
   "metadata": {},
   "outputs": [],
   "source": [
    "from math import radians, sin, cos, atan2, degrees\n",
    "def bearing(position1, position2):\n",
    "\n",
    "    lat1, long1 = position1\n",
    "    lat1, long1 = radians(lat1), radians(long1)\n",
    "    lat2, long2 = position2\n",
    "    lat2, long2 = radians(lat2), radians(long2)\n",
    "    \n",
    "    dLon = long2 - long1\n",
    "    \n",
    "    y = sin(dLon) * cos(lat2)\n",
    "    x = cos(lat1) * sin(lat2) - sin(lat1) * cos(lat2) * cos(dLon)\n",
    "    \n",
    "    bearing = (degrees(atan2(y, x)) + 360) % 360\n",
    "    \n",
    "    return bearing"
   ]
  },
  {
   "cell_type": "code",
   "execution_count": 57,
   "metadata": {},
   "outputs": [
    {
     "name": "stdout",
     "output_type": "stream",
     "text": [
      "44.137403710636704 degrees\n"
     ]
    }
   ],
   "source": [
    "# calculate the bearing between two points\n",
    "\n",
    "RA = (49.692474, 10.827420)\n",
    "AL = (49.695807, 10.832420)\n",
    "\n",
    "print( bearing(RA,AL), 'degrees')\n"
   ]
  },
  {
   "cell_type": "markdown",
   "metadata": {},
   "source": [
    "## Assumptions\n",
    "We can assume that the Robots will be in close proximity with in a radius of 4km from one another\n",
    "this helps in reducin the need for super accurate formulas over large distances. As we can assume that \n",
    "over a short distance the surface of the earth looks very ... flat ( this is not flat-earther-stuff !)\n",
    "\n",
    "So we can go to simple trig and pythagoras to calculate distance and bearing\n",
    "\n",
    "\n"
   ]
  },
  {
   "cell_type": "code",
   "execution_count": 58,
   "metadata": {},
   "outputs": [],
   "source": [
    "from math import sqrt\n",
    "def simple_distance(P1,P2):\n",
    "\n",
    "    print(P1,P2)\n",
    "\n",
    "    delta_lat =  P2[0] - P1[0]\n",
    "    delta_long = P2[1] - P1[1]\n",
    "\n",
    "    print(delta_lat,delta_long)\n",
    "\n",
    "    #Pythagoras\n",
    "    distance = sqrt( delta_lat*delta_lat + delta_long*delta_long  )\n",
    "\n",
    "    return distance\n",
    "\n",
    "\n"
   ]
  },
  {
   "cell_type": "code",
   "execution_count": 59,
   "metadata": {},
   "outputs": [],
   "source": [
    "from math import atan2, degrees\n",
    "def simple_bearing(P1,P2):\n",
    "\n",
    "    \n",
    "    print(P1,P2)\n",
    "\n",
    "    delta_lat =  P2[0] - P1[0]\n",
    "    delta_long = P2[1] - P1[1]\n",
    "\n",
    "    print(delta_lat,delta_long)\n",
    "\n",
    "    #Pythagoras (North-Clockwise Convention)\n",
    "    #https://en.wikipedia.org/wiki/Atan2\n",
    "    bearing_radians = atan2(delta_long,delta_lat) \n",
    "\n",
    "    #Pythagoras (East-Counterclockwise Convention)\n",
    "    #bearing_radians = atan2(delta_long,delta_lat) \n",
    "\n",
    "    return (degrees(bearing_radians) + 360) % 360"
   ]
  },
  {
   "cell_type": "code",
   "execution_count": 60,
   "metadata": {},
   "outputs": [
    {
     "name": "stdout",
     "output_type": "stream",
     "text": [
      "(49692474, 10827420) (49695807, 10832420)\n",
      "3333 5000\n",
      "6009.067232108491 meters\n",
      "(49692474, 10827420) (49695807, 10832420)\n",
      "3333 5000\n",
      "56.31257697598056 degrees\n"
     ]
    }
   ],
   "source": [
    "RA = bignumber_waypoints[0]\n",
    "AL = bignumber_waypoints[2]\n",
    "\n",
    "print( simple_distance(RA,AL),\"meters\")\n",
    "print( simple_bearing(RA,AL),\"degrees\")"
   ]
  },
  {
   "cell_type": "code",
   "execution_count": 68,
   "metadata": {},
   "outputs": [
    {
     "name": "stdout",
     "output_type": "stream",
     "text": [
      "[(49.692474, '49.692474'), (49.694141, '49.694141'), (-49.695807, '-49.695807')]\n"
     ]
    }
   ],
   "source": [
    "waypoints =[\n",
    "[('49', '41.54847', 'N') , ('10', '49.64521', 'E')],\n",
    "[('49', '41.64847', 'N') , ('10', '49.74521', 'E')],\n",
    "[('49', '41.74847', 'S') , ('10', '49.94521', 'E')],\n",
    "]\n",
    "\n",
    "def convert_dm_dd(degree :str,minutes :str,hemi :str) -> tuple:\n",
    "        \"\"\" \n",
    "        convert degree minutes format to degrees decimal format \n",
    "        eg 49 21.3454 S -> dd = -49.3557566\n",
    "        returns float and string representations of degree decimal\n",
    "        ISSUE# On small mcu's the float precision is low:\n",
    "            eg. '49.3557566' -> 49.35575 \n",
    "        \"\"\"\n",
    "        degree = int(degree)\n",
    "        minuite, minuite_decimal = minutes.split('.')\n",
    "        degree_decimal  = int(minuite + minuite_decimal) // 6\n",
    "\n",
    "        if hemi in ['S','W']:\n",
    "            degree=degree * -1\n",
    "\n",
    "        dd_str = str(degree)+'.'+str(degree_decimal)\n",
    "        dd_float = float(dd_str)\n",
    "\n",
    "        return (dd_float, dd_str)\n",
    "\n",
    "result = []\n",
    "\n",
    "for waypoint in waypoints:\n",
    "\n",
    "    d = waypoint[0][0]\n",
    "    m = waypoint[0][1]\n",
    "    h = waypoint[0][2]\n",
    "\n",
    "    result.append(convert_dm_dd(d,m,h))\n",
    "\n",
    "print(result)"
   ]
  }
 ],
 "metadata": {
  "kernelspec": {
   "display_name": "Python 3.10.5 64-bit",
   "language": "python",
   "name": "python3"
  },
  "language_info": {
   "codemirror_mode": {
    "name": "ipython",
    "version": 3
   },
   "file_extension": ".py",
   "mimetype": "text/x-python",
   "name": "python",
   "nbconvert_exporter": "python",
   "pygments_lexer": "ipython3",
   "version": "3.10.5"
  },
  "orig_nbformat": 4,
  "vscode": {
   "interpreter": {
    "hash": "369f2c481f4da34e4445cda3fffd2e751bd1c4d706f27375911949ba6bb62e1c"
   }
  }
 },
 "nbformat": 4,
 "nbformat_minor": 2
}
