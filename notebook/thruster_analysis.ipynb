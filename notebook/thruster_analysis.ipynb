{
 "cells": [
  {
   "cell_type": "code",
   "execution_count": 1,
   "metadata": {},
   "outputs": [
    {
     "ename": "SerialException",
     "evalue": "could not open port 'COM6': FileNotFoundError(2, 'Das System kann die angegebene Datei nicht finden.', None, 2)",
     "output_type": "error",
     "traceback": [
      "\u001b[1;31m---------------------------------------------------------------------------\u001b[0m",
      "\u001b[1;31mSerialException\u001b[0m                           Traceback (most recent call last)",
      "\u001b[1;32mc:\\Users\\bentchvp\\Development\\RoboBuoy\\notebook\\thruster_analysis.ipynb Zelle 1\u001b[0m in \u001b[0;36m<cell line: 13>\u001b[1;34m()\u001b[0m\n\u001b[0;32m     <a href='vscode-notebook-cell:/c%3A/Users/bentchvp/Development/RoboBuoy/notebook/thruster_analysis.ipynb#W0sZmlsZQ%3D%3D?line=10'>11</a>\u001b[0m ser\u001b[39m.\u001b[39mbaudrate \u001b[39m=\u001b[39m \u001b[39m9600\u001b[39m\n\u001b[0;32m     <a href='vscode-notebook-cell:/c%3A/Users/bentchvp/Development/RoboBuoy/notebook/thruster_analysis.ipynb#W0sZmlsZQ%3D%3D?line=11'>12</a>\u001b[0m ser\u001b[39m.\u001b[39mtimeout \u001b[39m=\u001b[39m \u001b[39m10\u001b[39m \u001b[39m#specify timeout when using readline()\u001b[39;00m\n\u001b[1;32m---> <a href='vscode-notebook-cell:/c%3A/Users/bentchvp/Development/RoboBuoy/notebook/thruster_analysis.ipynb#W0sZmlsZQ%3D%3D?line=12'>13</a>\u001b[0m ser\u001b[39m.\u001b[39;49mopen()\n\u001b[0;32m     <a href='vscode-notebook-cell:/c%3A/Users/bentchvp/Development/RoboBuoy/notebook/thruster_analysis.ipynb#W0sZmlsZQ%3D%3D?line=13'>14</a>\u001b[0m \u001b[39mif\u001b[39;00m ser\u001b[39m.\u001b[39mis_open\u001b[39m==\u001b[39m\u001b[39mTrue\u001b[39;00m:\n\u001b[0;32m     <a href='vscode-notebook-cell:/c%3A/Users/bentchvp/Development/RoboBuoy/notebook/thruster_analysis.ipynb#W0sZmlsZQ%3D%3D?line=14'>15</a>\u001b[0m \t\u001b[39mprint\u001b[39m(\u001b[39m\"\u001b[39m\u001b[39m\\n\u001b[39;00m\u001b[39mAll right, serial port now open. Configuration:\u001b[39m\u001b[39m\\n\u001b[39;00m\u001b[39m\"\u001b[39m)\n",
      "File \u001b[1;32mc:\\Python310\\lib\\site-packages\\serial\\serialwin32.py:64\u001b[0m, in \u001b[0;36mSerial.open\u001b[1;34m(self)\u001b[0m\n\u001b[0;32m     62\u001b[0m \u001b[39mif\u001b[39;00m \u001b[39mself\u001b[39m\u001b[39m.\u001b[39m_port_handle \u001b[39m==\u001b[39m win32\u001b[39m.\u001b[39mINVALID_HANDLE_VALUE:\n\u001b[0;32m     63\u001b[0m     \u001b[39mself\u001b[39m\u001b[39m.\u001b[39m_port_handle \u001b[39m=\u001b[39m \u001b[39mNone\u001b[39;00m    \u001b[39m# 'cause __del__ is called anyway\u001b[39;00m\n\u001b[1;32m---> 64\u001b[0m     \u001b[39mraise\u001b[39;00m SerialException(\u001b[39m\"\u001b[39m\u001b[39mcould not open port \u001b[39m\u001b[39m{!r}\u001b[39;00m\u001b[39m: \u001b[39m\u001b[39m{!r}\u001b[39;00m\u001b[39m\"\u001b[39m\u001b[39m.\u001b[39mformat(\u001b[39mself\u001b[39m\u001b[39m.\u001b[39mportstr, ctypes\u001b[39m.\u001b[39mWinError()))\n\u001b[0;32m     66\u001b[0m \u001b[39mtry\u001b[39;00m:\n\u001b[0;32m     67\u001b[0m     \u001b[39mself\u001b[39m\u001b[39m.\u001b[39m_overlapped_read \u001b[39m=\u001b[39m win32\u001b[39m.\u001b[39mOVERLAPPED()\n",
      "\u001b[1;31mSerialException\u001b[0m: could not open port 'COM6': FileNotFoundError(2, 'Das System kann die angegebene Datei nicht finden.', None, 2)"
     ]
    }
   ],
   "source": [
    "import matplotlib.pyplot as plt\n",
    "import matplotlib.animation as animation\n",
    "from matplotlib import style\n",
    "import numpy as np\n",
    "import random\n",
    "import serial\n",
    "\n",
    "#initialize serial port\n",
    "ser = serial.Serial()\n",
    "ser.port = 'COM6' #Arduino serial port\n",
    "ser.baudrate = 9600\n",
    "ser.timeout = 10 #specify timeout when using readline()\n",
    "ser.open()\n",
    "if ser.is_open==True:\n",
    "\tprint(\"\\nAll right, serial port now open. Configuration:\\n\")\n",
    "\tprint(ser, \"\\n\") #print serial parameters\n",
    "\n",
    "# Create figure for plotting\n",
    "fig = plt.figure()\n",
    "ax = fig.add_subplot(1, 1, 1)\n",
    "xs = [] #store trials here (n)\n",
    "ys = [] #store relative frequency here\n",
    "rs = [] #for theoretical probability\n",
    "\n",
    "# This function is called periodically from FuncAnimation\n",
    "def animate(i, xs, ys):\n",
    "\n",
    "    #Aquire and parse data from serial port\n",
    "    line=ser.readline()      #ascii\n",
    "    line_as_list = line.split(b',')\n",
    "    i = int(line_as_list[0])\n",
    "    relProb = line_as_list[1]\n",
    "    relProb_as_list = relProb.split(b'\\n')\n",
    "    relProb_float = float(relProb_as_list[0])\n",
    "\t\n",
    "\t# Add x and y to lists\n",
    "    xs.append(i)\n",
    "    ys.append(relProb_float)\n",
    "    rs.append(0.5)\n",
    "\n",
    "    # Limit x and y lists to 20 items\n",
    "    #xs = xs[-20:]\n",
    "    #ys = ys[-20:]\n",
    "\n",
    "    # Draw x and y lists\n",
    "    ax.clear()\n",
    "    ax.plot(xs, ys, label=\"Experimental Probability\")\n",
    "    ax.plot(xs, rs, label=\"Theoretical Probability\")\n",
    "\n",
    "    # Format plot\n",
    "    plt.xticks(rotation=45, ha='right')\n",
    "    plt.subplots_adjust(bottom=0.30)\n",
    "    plt.title('This is how I roll...')\n",
    "    plt.ylabel('Relative frequency')\n",
    "    plt.legend()\n",
    "    plt.axis([1, None, 0, 1.1]) #Use for arbitrary number of trials\n",
    "    #plt.axis([1, 100, 0, 1.1]) #Use for 100 trial demo\n",
    "\n",
    "# Set up plot to call animate() function periodically\n",
    "ani = animation.FuncAnimation(fig, animate, fargs=(xs, ys), interval=1000)\n",
    "plt.show()"
   ]
  }
 ],
 "metadata": {
  "kernelspec": {
   "display_name": "Python 3.10.5 64-bit",
   "language": "python",
   "name": "python3"
  },
  "language_info": {
   "codemirror_mode": {
    "name": "ipython",
    "version": 3
   },
   "file_extension": ".py",
   "mimetype": "text/x-python",
   "name": "python",
   "nbconvert_exporter": "python",
   "pygments_lexer": "ipython3",
   "version": "3.10.5"
  },
  "orig_nbformat": 4,
  "vscode": {
   "interpreter": {
    "hash": "369f2c481f4da34e4445cda3fffd2e751bd1c4d706f27375911949ba6bb62e1c"
   }
  }
 },
 "nbformat": 4,
 "nbformat_minor": 2
}
