{
 "cells": [
  {
   "cell_type": "code",
   "execution_count": 1,
   "metadata": {},
   "outputs": [],
   "source": [
    "import serial\n",
    "import time\n",
    "import csv\n",
    "import matplotlib\n",
    "matplotlib.use(\"tkAgg\")\n",
    "import matplotlib.pyplot as plt\n",
    "import numpy as np\n",
    "\n",
    "%matplotlib inline\n"
   ]
  },
  {
   "cell_type": "code",
   "execution_count": null,
   "metadata": {},
   "outputs": [],
   "source": [
    "\n",
    "ser = serial.Serial()\n",
    "ser.port = 'COM6' \n",
    "ser.baudrate = 115200\n",
    "ser.timeout = 10 #specify timeout when using readline()\n",
    "ser.open()\n",
    "\n",
    "if ser.is_open==True:\n",
    "    print(\"\\nAll right, serial port now open. Configuration:\\n\")\n",
    "    print(ser, \"\\n\") #print serial parameters\n",
    "    time.sleep(5)\n",
    "\n",
    "plot_window = 200\n",
    "\n",
    "currentcourses = np.array(np.zeros([plot_window]))\n",
    "steeringangles = np.array(np.zeros([plot_window]))\n",
    "\n",
    "plt.ion()\n",
    "fig, ax = plt.subplots()\n",
    "currentcourses_line, = ax.plot(currentcourses)\n",
    "steeringangles_line, = ax.plot(steeringangles)\n",
    "\n",
    "\n",
    "\n",
    "while True:\n",
    "    try:\n",
    "        ser_bytes = ser.readline()\n",
    "        try:\n",
    "            decoded_bytes = ser_bytes[0:len(ser_bytes)-2].decode(\"utf-8\")\n",
    "            desiredcourse, currentcourse, steeringangle = decoded_bytes.split(' ')\n",
    "\n",
    "            desiredcourse, currentcourse, steeringangle = float(desiredcourse), float(currentcourse), float(-steeringangle)\n",
    "            print(desiredcourse, currentcourse, steeringangle)\n",
    "        except:\n",
    "            continue\n",
    "\n",
    "\n",
    "        currentcourses = np.append(currentcourse,)\n",
    "        currentcourses = currentcourses[1:plot_window+1]\n",
    "        currentcourses_line.set_ydata(currentcourses)\n",
    "\n",
    "        steeringangles = np.append(steeringangle,)\n",
    "        steeringangles = steeringangles[1:plot_window+1]\n",
    "        steeringangles_line.set_ydata(steeringangles)\n",
    "\n",
    "        ax.set_ylim(bottom=-180.0,top=180.0)\n",
    "        #ax.relim()\n",
    "        #ax.autoscale_view()\n",
    "        fig.canvas.draw()\n",
    "        fig.canvas.flush_events()\n",
    "    except Exception as err:\n",
    "        print(\"Keyboard Interrupt\", err)\n",
    "        ser.close()\n",
    "        break"
   ]
  },
  {
   "cell_type": "code",
   "execution_count": 44,
   "metadata": {},
   "outputs": [
    {
     "data": {
      "image/png": "[encoded data removed]",
      "text/plain": [
       "<Figure size 640x480 with 1 Axes>"
      ]
     },
     "metadata": {},
     "output_type": "display_data"
    }
   ],
   "source": [
    "from math import radians\n",
    "import numpy as np\n",
    "import matplotlib.pyplot as plt\n",
    "\n",
    "%matplotlib inline\n",
    "\n",
    "steer_gain = 4  \n",
    "v_in_min = 0\n",
    "v_in_max = 2\n",
    "pwm_out_min = 40\n",
    "pwm_out_max = 100\n",
    "\n",
    "\n",
    "def drive(steer,surge):\n",
    "    \"\"\"\n",
    "    steer in degrees per second\n",
    "    surge in meters per second\n",
    "    \"\"\"\n",
    "    \n",
    "    vl = (2*surge + radians(steer)*steer_gain) / 2\n",
    "    vr = (2*surge - radians(steer)*steer_gain) / 2\n",
    "\n",
    "    # clam max and min motor speeds  \n",
    "    vl = min(v_in_max,vl)\n",
    "    vl = max(v_in_min,vl)\n",
    "    vr = min(v_in_max,vr)\n",
    "    vr = max(v_in_min,vr)\n",
    "\n",
    "    pwm_left = (vl - v_in_min) * (pwm_out_max - pwm_out_min) / (v_in_max - v_in_min) + pwm_out_min\n",
    "    pwm_right = (vr - v_in_min) * (pwm_out_max - pwm_out_min) / (v_in_max - v_in_min) + pwm_out_min\n",
    "\n",
    "    return pwm_left,pwm_right\n",
    "\n",
    "steeringangles = []\n",
    "motorrights = []\n",
    "motorlefts = []\n",
    "\n",
    "for steeringangle in range(-180,180,20):\n",
    "    \n",
    "\n",
    "    steeringangles.append(steeringangle)\n",
    "\n",
    "\n",
    "    vr,vl = drive(steeringangle,1)\n",
    "\n",
    "    motorrights.append(vr)\n",
    "    motorlefts.append(vl) \n",
    "\n",
    "\n",
    "plt.plot(steeringangles, motorrights , label='vr' )\n",
    "plt.plot(steeringangles, motorlefts , label='vl' )\n",
    "\n",
    "plt.show()"
   ]
  },
  {
   "cell_type": "code",
   "execution_count": null,
   "metadata": {},
   "outputs": [],
   "source": [
    "\n"
   ]
  },
  {
   "cell_type": "code",
   "execution_count": 10,
   "metadata": {},
   "outputs": [
    {
     "name": "stdout",
     "output_type": "stream",
     "text": [
      "40.0\n",
      "41.666666666666664\n",
      "43.333333333333336\n",
      "45.0\n",
      "46.666666666666664\n",
      "48.333333333333336\n",
      "50.0\n",
      "51.666666666666664\n",
      "53.333333333333336\n",
      "55.0\n",
      "56.66666666666667\n",
      "58.33333333333333\n",
      "60.0\n",
      "61.66666666666667\n",
      "63.33333333333333\n",
      "65.0\n",
      "66.66666666666667\n",
      "68.33333333333333\n",
      "70.0\n",
      "71.66666666666667\n",
      "73.33333333333334\n",
      "75.0\n",
      "76.66666666666666\n",
      "78.33333333333334\n",
      "80.0\n",
      "81.66666666666666\n",
      "83.33333333333334\n",
      "85.0\n",
      "86.66666666666666\n",
      "88.33333333333334\n",
      "90.0\n",
      "91.66666666666666\n",
      "93.33333333333334\n",
      "95.0\n",
      "96.66666666666666\n",
      "98.33333333333334\n"
     ]
    }
   ],
   "source": [
    "in_min = -180\n",
    "in_max = 180\n",
    "out_min = 40\n",
    "out_max = 100\n",
    "\n",
    "def remap(x):\n",
    "  return (x - in_min) * (out_max - out_min) / (in_max - in_min) + out_min\n",
    "\n",
    "\n",
    "for steeringangle in range(-180,180,10):\n",
    "\n",
    "    print(remap(steeringangle))  "
   ]
  }
 ],
 "metadata": {
  "kernelspec": {
   "display_name": "Python 3.10.5 64-bit",
   "language": "python",
   "name": "python3"
  },
  "language_info": {
   "codemirror_mode": {
    "name": "ipython",
    "version": 3
   },
   "file_extension": ".py",
   "mimetype": "text/x-python",
   "name": "python",
   "nbconvert_exporter": "python",
   "pygments_lexer": "ipython3",
   "version": "3.10.5"
  },
  "orig_nbformat": 4,
  "vscode": {
   "interpreter": {
    "hash": "369f2c481f4da34e4445cda3fffd2e751bd1c4d706f27375911949ba6bb62e1c"
   }
  }
 },
 "nbformat": 4,
 "nbformat_minor": 2
}
