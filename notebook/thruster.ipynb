{
 "cells": [
  {
   "cell_type": "markdown",
   "metadata": {},
   "source": [
    "Gyro Analysis\n",
    "360 Degrees\n",
    "10m Radius"
   ]
  },
  {
   "cell_type": "code",
   "execution_count": 4,
   "metadata": {},
   "outputs": [],
   "source": [
    "import numpy as np\n",
    "import pandas as pd\n",
    "import matplotlib.pyplot as plt\n",
    "from math import sin, radians, pi\n",
    "\n",
    "plt.rcParams[\"figure.figsize\"] = [7.50, 3.50]\n",
    "plt.rcParams[\"figure.autolayout\"] = True\n"
   ]
  },
  {
   "cell_type": "code",
   "execution_count": 5,
   "metadata": {},
   "outputs": [],
   "source": [
    "def mixer( rudder, power ):\n",
    "    \n",
    "    \"\"\"\n",
    "    Mixes rudder and desired speed\n",
    "    to control the power and direction of the differntial thrusters\n",
    "    power -1 .. 0 .. 1\n",
    "    rudder -1 .. 0 .. 1\n",
    "    \"\"\"\n",
    "    \n",
    "    # calculate power to left and right motors\n",
    "    powerleft = 0\n",
    "    powerright = 0\n",
    "\n",
    "    #rudder = sin( radians( rudder )) \n",
    "\n",
    "    powerleft =    power + rudder\n",
    "    powerright =   power - rudder\n",
    "\n",
    "    powerleft = min(1.0,powerleft)\n",
    "    powerleft = max(powerleft,-1.0)\n",
    "\n",
    "    powerright = min(1.0,powerright)\n",
    "    powerright = max(powerright,-1.0)\n",
    "\n",
    "    # apply power to motors\n",
    "    #left( powerleft )\n",
    "    #right( powerright )\n",
    "\n",
    "    return powerleft, powerright"
   ]
  },
  {
   "cell_type": "code",
   "execution_count": 6,
   "metadata": {},
   "outputs": [
    {
     "data": {
      "image/png": "[encoded data removed]",
      "text/plain": [
       "<Figure size 540x252 with 1 Axes>"
      ]
     },
     "metadata": {
      "needs_background": "light"
     },
     "output_type": "display_data"
    }
   ],
   "source": [
    "\n",
    "power = np.arange(-1,1,0.01)\n",
    "rudder = np.arange(-1,1,0.01)\n",
    "\n",
    "v_mixer = np.vectorize(mixer)\n",
    "powerleft, powerright = v_mixer(rudder, power)\n",
    "\n",
    "plt.plot( powerright)\n",
    "plt.plot( powerleft)\n",
    "plt.show()\n",
    "\n"
   ]
  }
 ],
 "metadata": {
  "kernelspec": {
   "display_name": "Python 3.7.3 64-bit",
   "language": "python",
   "name": "python3"
  },
  "language_info": {
   "codemirror_mode": {
    "name": "ipython",
    "version": 3
   },
   "file_extension": ".py",
   "mimetype": "text/x-python",
   "name": "python",
   "nbconvert_exporter": "python",
   "pygments_lexer": "ipython3",
   "version": "3.7.3"
  },
  "orig_nbformat": 4,
  "vscode": {
   "interpreter": {
    "hash": "068230dc198093495988a13d350ec7c47d1e94906c38c6fe69af254fa89d715d"
   }
  }
 },
 "nbformat": 4,
 "nbformat_minor": 2
}
